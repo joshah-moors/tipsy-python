{
 "cells": [
  {
   "cell_type": "markdown",
   "metadata": {},
   "source": [
    "# Tipsy Python\n",
    "*Season 1 | Episode 9*<br>\n",
    "Video: https://youtu.be/SflnX2-8ek8\n",
    "\n",
    "## Processing MS Excel Data with Pandas"
   ]
  },
  {
   "cell_type": "markdown",
   "metadata": {},
   "source": [
    "In Python, and many other languages, it is possible to package code and distribute code libraries for others to use.<br>\n",
    "It is common to download, install, and use third-party packages to extend the functionality of the standard library and use these features in our apps.<br><br>\n",
    "The Python package manager utility is called *pip*"
   ]
  },
  {
   "cell_type": "markdown",
   "metadata": {},
   "source": [
    "### Pandas\n",
    "**Pandas** is one of the most popular data processing libraries in Python.<br><br>\n",
    "There are many features available in Pandas, this video is just demonstrating one way to use Pandas to handle some MS Excel data. I recommend researching this package to discovery other functionality contained in it."
   ]
  },
  {
   "cell_type": "markdown",
   "metadata": {},
   "source": [
    "Download this sample Excel data to work with, put it in the same working directory where your python is running: https://docs.microsoft.com/en-us/power-bi/sample-financial-download"
   ]
  },
  {
   "cell_type": "markdown",
   "metadata": {},
   "source": [
    "Use pip to download and install the pandas library by running the following command at the terminal/cmd/powershell:<br><br>\n",
    "py -m pip install pandas<br><br>\n",
    "*Also install the optional dependency xlrd* to read Excel:<br>\n",
    "py -m pip install xlrd"
   ]
  },
  {
   "cell_type": "markdown",
   "metadata": {},
   "source": [
    "In code import pandas - it's common convention to alias the library as pd"
   ]
  },
  {
   "cell_type": "code",
   "execution_count": 2,
   "metadata": {},
   "outputs": [],
   "source": [
    "import pandas as pd"
   ]
  },
  {
   "cell_type": "markdown",
   "metadata": {},
   "source": [
    "Read the Excel data out of the file and into a pandas *dataframe*"
   ]
  },
  {
   "cell_type": "code",
   "execution_count": 3,
   "metadata": {},
   "outputs": [],
   "source": [
    "df = pd.read_excel('Financial Sample.xlsx')"
   ]
  },
  {
   "cell_type": "markdown",
   "metadata": {},
   "source": [
    "A dataframe is a matrix-style object that is specific to the Pandas library - it is a collection of columns and rows used for processing data."
   ]
  },
  {
   "cell_type": "markdown",
   "metadata": {},
   "source": [
    "Print the dataframe:<br>\n",
    "*NOTICE*:\n",
    "- Total column and row counts are shown at the bottom\n",
    "- A sample view of the data is printed\n",
    "- The column headers from the Excel file were automatically imported and being used as column name in the dataframe"
   ]
  },
  {
   "cell_type": "code",
   "execution_count": 4,
   "metadata": {
    "scrolled": true
   },
   "outputs": [
    {
     "name": "stdout",
     "output_type": "stream",
     "text": [
      "              Segment                   Country    Product Discount Band  \\\n",
      "0          Government                    Canada  Carretera          None   \n",
      "1          Government                   Germany  Carretera          None   \n",
      "2           Midmarket                    France  Carretera          None   \n",
      "3           Midmarket                   Germany  Carretera          None   \n",
      "4           Midmarket                    Mexico  Carretera          None   \n",
      "..                ...                       ...        ...           ...   \n",
      "695    Small Business                    France   Amarilla          High   \n",
      "696    Small Business                    Mexico   Amarilla          High   \n",
      "697        Government                    Mexico    Montana          High   \n",
      "698        Government                    Canada      Paseo          High   \n",
      "699  Channel Partners  United States of America        VTT          High   \n",
      "\n",
      "     Units Sold  Manufacturing Price  Sale Price  Gross Sales  Discounts  \\\n",
      "0        1618.5                    3          20      32370.0       0.00   \n",
      "1        1321.0                    3          20      26420.0       0.00   \n",
      "2        2178.0                    3          15      32670.0       0.00   \n",
      "3         888.0                    3          15      13320.0       0.00   \n",
      "4        2470.0                    3          15      37050.0       0.00   \n",
      "..          ...                  ...         ...          ...        ...   \n",
      "695      2475.0                  260         300     742500.0  111375.00   \n",
      "696       546.0                  260         300     163800.0   24570.00   \n",
      "697      1368.0                    5           7       9576.0    1436.40   \n",
      "698       723.0                   10           7       5061.0     759.15   \n",
      "699      1806.0                  250          12      21672.0    3250.80   \n",
      "\n",
      "         Sales      COGS    Profit       Date  Month Number Month Name  Year  \n",
      "0     32370.00   16185.0  16185.00 2014-01-01             1    January  2014  \n",
      "1     26420.00   13210.0  13210.00 2014-01-01             1    January  2014  \n",
      "2     32670.00   21780.0  10890.00 2014-06-01             6       June  2014  \n",
      "3     13320.00    8880.0   4440.00 2014-06-01             6       June  2014  \n",
      "4     37050.00   24700.0  12350.00 2014-06-01             6       June  2014  \n",
      "..         ...       ...       ...        ...           ...        ...   ...  \n",
      "695  631125.00  618750.0  12375.00 2014-03-01             3      March  2014  \n",
      "696  139230.00  136500.0   2730.00 2014-10-01            10    October  2014  \n",
      "697    8139.60    6840.0   1299.60 2014-02-01             2   February  2014  \n",
      "698    4301.85    3615.0    686.85 2014-04-01             4      April  2014  \n",
      "699   18421.20    5418.0  13003.20 2014-05-01             5        May  2014  \n",
      "\n",
      "[700 rows x 16 columns]\n"
     ]
    }
   ],
   "source": [
    "print(df)"
   ]
  },
  {
   "cell_type": "markdown",
   "metadata": {},
   "source": [
    "Use bracket-notation on the iloc attribute of the dataframe object to view a specific row"
   ]
  },
  {
   "cell_type": "code",
   "execution_count": 5,
   "metadata": {},
   "outputs": [
    {
     "data": {
      "text/plain": [
       "Segment                         Government\n",
       "Country                             Canada\n",
       "Product                          Carretera\n",
       "Discount Band                         None\n",
       "Units Sold                          1618.5\n",
       "Manufacturing Price                      3\n",
       "Sale Price                              20\n",
       "Gross Sales                          32370\n",
       "Discounts                                0\n",
       " Sales                               32370\n",
       "COGS                                 16185\n",
       "Profit                               16185\n",
       "Date                   2014-01-01 00:00:00\n",
       "Month Number                             1\n",
       "Month Name                         January\n",
       "Year                                  2014\n",
       "Name: 0, dtype: object"
      ]
     },
     "execution_count": 5,
     "metadata": {},
     "output_type": "execute_result"
    }
   ],
   "source": [
    "df.iloc[0]"
   ]
  },
  {
   "cell_type": "markdown",
   "metadata": {},
   "source": [
    "Data is show on the right, with column names on the left - Pandas displays the data very nicely"
   ]
  },
  {
   "cell_type": "markdown",
   "metadata": {},
   "source": [
    "Use iloc to take a slice of rows"
   ]
  },
  {
   "cell_type": "code",
   "execution_count": 10,
   "metadata": {},
   "outputs": [
    {
     "data": {
      "text/html": [
       "<div>\n",
       "<style scoped>\n",
       "    .dataframe tbody tr th:only-of-type {\n",
       "        vertical-align: middle;\n",
       "    }\n",
       "\n",
       "    .dataframe tbody tr th {\n",
       "        vertical-align: top;\n",
       "    }\n",
       "\n",
       "    .dataframe thead th {\n",
       "        text-align: right;\n",
       "    }\n",
       "</style>\n",
       "<table border=\"1\" class=\"dataframe\">\n",
       "  <thead>\n",
       "    <tr style=\"text-align: right;\">\n",
       "      <th></th>\n",
       "      <th>Segment</th>\n",
       "      <th>Country</th>\n",
       "      <th>Product</th>\n",
       "      <th>Discount Band</th>\n",
       "      <th>Units Sold</th>\n",
       "      <th>Manufacturing Price</th>\n",
       "      <th>Sale Price</th>\n",
       "      <th>Gross Sales</th>\n",
       "      <th>Discounts</th>\n",
       "      <th>Sales</th>\n",
       "      <th>COGS</th>\n",
       "      <th>Profit</th>\n",
       "      <th>Date</th>\n",
       "      <th>Month Number</th>\n",
       "      <th>Month Name</th>\n",
       "      <th>Year</th>\n",
       "    </tr>\n",
       "  </thead>\n",
       "  <tbody>\n",
       "    <tr>\n",
       "      <th>0</th>\n",
       "      <td>Government</td>\n",
       "      <td>Canada</td>\n",
       "      <td>Carretera</td>\n",
       "      <td>None</td>\n",
       "      <td>1618.5</td>\n",
       "      <td>3</td>\n",
       "      <td>20</td>\n",
       "      <td>32370.0</td>\n",
       "      <td>0.0</td>\n",
       "      <td>32370.0</td>\n",
       "      <td>16185.0</td>\n",
       "      <td>16185.0</td>\n",
       "      <td>2014-01-01</td>\n",
       "      <td>1</td>\n",
       "      <td>January</td>\n",
       "      <td>2014</td>\n",
       "    </tr>\n",
       "    <tr>\n",
       "      <th>1</th>\n",
       "      <td>Government</td>\n",
       "      <td>Germany</td>\n",
       "      <td>Carretera</td>\n",
       "      <td>None</td>\n",
       "      <td>1321.0</td>\n",
       "      <td>3</td>\n",
       "      <td>20</td>\n",
       "      <td>26420.0</td>\n",
       "      <td>0.0</td>\n",
       "      <td>26420.0</td>\n",
       "      <td>13210.0</td>\n",
       "      <td>13210.0</td>\n",
       "      <td>2014-01-01</td>\n",
       "      <td>1</td>\n",
       "      <td>January</td>\n",
       "      <td>2014</td>\n",
       "    </tr>\n",
       "  </tbody>\n",
       "</table>\n",
       "</div>"
      ],
      "text/plain": [
       "      Segment  Country    Product Discount Band  Units Sold  \\\n",
       "0  Government   Canada  Carretera          None      1618.5   \n",
       "1  Government  Germany  Carretera          None      1321.0   \n",
       "\n",
       "   Manufacturing Price  Sale Price  Gross Sales  Discounts    Sales     COGS  \\\n",
       "0                    3          20      32370.0        0.0  32370.0  16185.0   \n",
       "1                    3          20      26420.0        0.0  26420.0  13210.0   \n",
       "\n",
       "    Profit       Date  Month Number Month Name  Year  \n",
       "0  16185.0 2014-01-01             1    January  2014  \n",
       "1  13210.0 2014-01-01             1    January  2014  "
      ]
     },
     "execution_count": 10,
     "metadata": {},
     "output_type": "execute_result"
    }
   ],
   "source": [
    "df.iloc[0:2]"
   ]
  },
  {
   "cell_type": "markdown",
   "metadata": {},
   "source": [
    "To get the value of a particular column, use bracket-notation on the row to reference the column name"
   ]
  },
  {
   "cell_type": "code",
   "execution_count": 11,
   "metadata": {},
   "outputs": [
    {
     "data": {
      "text/plain": [
       "32370.0"
      ]
     },
     "execution_count": 11,
     "metadata": {},
     "output_type": "execute_result"
    }
   ],
   "source": [
    "df.iloc[0][' Sales']"
   ]
  },
  {
   "cell_type": "markdown",
   "metadata": {},
   "source": [
    "You can also use bracket-notation to filter the rows in a dataframe.<br><br>\n",
    "*For Instance*\n",
    "- Filter the dataframe..\n",
    "- To only show the rows where the value of the \" Sales\" column is greater than 1,000,000\n",
    "- A dataframe holding the filtered data is returned\n",
    "- Also note: you cannot format an integer with commas, but inserting underscores does not affect the value and makes it easier to read"
   ]
  },
  {
   "cell_type": "code",
   "execution_count": 14,
   "metadata": {},
   "outputs": [],
   "source": [
    "sub_df = df[ df[' Sales'] > 1_000_000]"
   ]
  },
  {
   "cell_type": "markdown",
   "metadata": {},
   "source": [
    "Look at the data in the filtered dataframe and notice that it only contains records with sales greater than 1,000,000"
   ]
  },
  {
   "cell_type": "code",
   "execution_count": 13,
   "metadata": {
    "scrolled": true
   },
   "outputs": [
    {
     "name": "stdout",
     "output_type": "stream",
     "text": [
      "            Segment                   Country   Product Discount Band  \\\n",
      "124      Government                   Germany      Velo           Low   \n",
      "140      Government                   Germany  Amarilla           Low   \n",
      "192      Government  United States of America     Paseo           Low   \n",
      "405  Small Business                    Canada   Montana        Medium   \n",
      "423  Small Business                    Canada      Velo        Medium   \n",
      "\n",
      "     Units Sold  Manufacturing Price  Sale Price  Gross Sales  Discounts  \\\n",
      "124      2966.0                  120         350    1038100.0    20762.0   \n",
      "140      2966.0                  260         350    1038100.0    20762.0   \n",
      "192      3450.0                   10         350    1207500.0    48300.0   \n",
      "405      3802.5                    5         300    1140750.0   102667.5   \n",
      "423      3793.5                  120         300    1138050.0   102424.5   \n",
      "\n",
      "         Sales      COGS    Profit       Date  Month Number Month Name  Year  \n",
      "124  1017338.0  771160.0  246178.0 2013-10-01            10    October  2013  \n",
      "140  1017338.0  771160.0  246178.0 2013-10-01            10    October  2013  \n",
      "192  1159200.0  897000.0  262200.0 2014-07-01             7       July  2014  \n",
      "405  1038082.5  950625.0   87457.5 2014-04-01             4      April  2014  \n",
      "423  1035625.5  948375.0   87250.5 2014-07-01             7       July  2014  \n"
     ]
    }
   ],
   "source": [
    "print(sub_df)"
   ]
  },
  {
   "cell_type": "markdown",
   "metadata": {},
   "source": [
    "While it is not efficient to process large datasets by iteration, there are cases to iterate through the reduced data.<br>\n",
    "Use the .iterrows() method to iterate through the rows of a dataframe.<br>\n",
    ".iterrows() returns a collection of (index, value) tuples like the enumerate function."
   ]
  },
  {
   "cell_type": "code",
   "execution_count": 15,
   "metadata": {
    "scrolled": true
   },
   "outputs": [
    {
     "name": "stdout",
     "output_type": "stream",
     "text": [
      "1017338.0\n",
      "1017338.0\n",
      "1159200.0\n",
      "1038082.5\n",
      "1035625.5\n"
     ]
    }
   ],
   "source": [
    "for idx, row in sub_df.iterrows():\n",
    "    print(row[' Sales'])"
   ]
  },
  {
   "cell_type": "markdown",
   "metadata": {},
   "source": [
    "## Final Exercise\n",
    "*Write a function to filter an Excel file and identify low sales*<br><br>\n",
    "\n",
    "Requirements:\n",
    "- This logic will have to be performed on different Excel files over time - parameterize the file name\n",
    "- Also parameterize the low value metric as an input\n",
    "- Reduce the dataset to rows where the value of 'Gross Sales' is under the low value metric\n",
    "- Print a summary view of the records"
   ]
  },
  {
   "cell_type": "code",
   "execution_count": 16,
   "metadata": {},
   "outputs": [],
   "source": [
    "def find_low_performers(excel_file, low_value):\n",
    "    df = pd.read_excel(excel_file)\n",
    "    filtered_rows = df[ df['Gross Sales'] < low_value]\n",
    "    for _, row in filtered_rows.iterrows():\n",
    "        print(f\"{row['Segment']} - {row['Country']} - {row['Product']}: ${row['Gross Sales']}\")"
   ]
  },
  {
   "cell_type": "markdown",
   "metadata": {},
   "source": [
    "Test the function:"
   ]
  },
  {
   "cell_type": "code",
   "execution_count": 17,
   "metadata": {},
   "outputs": [
    {
     "name": "stdout",
     "output_type": "stream",
     "text": [
      "Government - Germany - VTT: $1841.0\n",
      "Government - United States of America - Carretera: $1841.0\n",
      "Government - Canada - Paseo: $1799.0\n",
      "Government - Germany - Carretera: $1960.0\n",
      "Government - Germany - VTT: $1960.0\n"
     ]
    }
   ],
   "source": [
    "find_low_performers('Financial Sample.xlsx', 2_000)"
   ]
  }
 ],
 "metadata": {
  "kernelspec": {
   "display_name": "Python 3",
   "language": "python",
   "name": "python3"
  },
  "language_info": {
   "codemirror_mode": {
    "name": "ipython",
    "version": 3
   },
   "file_extension": ".py",
   "mimetype": "text/x-python",
   "name": "python",
   "nbconvert_exporter": "python",
   "pygments_lexer": "ipython3",
   "version": "3.7.1"
  }
 },
 "nbformat": 4,
 "nbformat_minor": 2
}
