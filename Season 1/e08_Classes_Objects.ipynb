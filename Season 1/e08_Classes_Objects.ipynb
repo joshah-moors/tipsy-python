{
 "cells": [
  {
   "cell_type": "markdown",
   "metadata": {},
   "source": [
    "# Tipsy Python\n",
    "*Season 1 | Episode 8*<br>\n",
    "Video: https://youtu.be/0Goh3MXolCc\n",
    "\n",
    "## Intro to Classes and Object Oriented Programming (OOP)"
   ]
  },
  {
   "cell_type": "markdown",
   "metadata": {},
   "source": [
    "Object Oriented Programming (OOP) is an approach to programming that says we can solve our problems in code by leveraging objects.\n",
    "\n",
    "**DISCLAIMER**: OOP is just one approach, you can solve many problems without it - *it's very optional*. Many who are brand-new to coding struggle with the concept, but general knowledge of how code objects work in Python will help you mature as a developer."
   ]
  },
  {
   "cell_type": "markdown",
   "metadata": {},
   "source": [
    "Everything in Python is an object - Python is an OOP language.<br>\n",
    "Objects are implemented by writing classes.<br><br>\n",
    "A class is an object definition that provides a means of logically coupling data and functionality."
   ]
  },
  {
   "cell_type": "markdown",
   "metadata": {},
   "source": [
    "Write your first class to see the class definition syntax:"
   ]
  },
  {
   "cell_type": "code",
   "execution_count": 1,
   "metadata": {},
   "outputs": [],
   "source": [
    "class MyFirstClass:\n",
    "    pass"
   ]
  },
  {
   "cell_type": "markdown",
   "metadata": {},
   "source": [
    "**NOTE**:\n",
    "- Keyword \"class\"\n",
    "- Followed by the class name\n",
    "- Class name by convention is CamelCase here (no underscores, first letter of each word capitalized); this is one of the few places you see this used in Python\n",
    "- No trailing parentheses (although they are optional, and there are uses for them)\n",
    "- Colon\n",
    "- 4 space indent\n",
    "- Class definition in the indented code block"
   ]
  },
  {
   "cell_type": "markdown",
   "metadata": {},
   "source": [
    "First class was good example to see syntax, but doesn't really do anything<br>\n",
    "Write a whiskey class, assign the class attribute volume is 750 (ml)"
   ]
  },
  {
   "cell_type": "code",
   "execution_count": 3,
   "metadata": {},
   "outputs": [],
   "source": [
    "class Whiskey:\n",
    "    volume = 750"
   ]
  },
  {
   "cell_type": "markdown",
   "metadata": {},
   "source": [
    "Objects are *instances* of a class.<br>\n",
    "To *instantiate* the class, call the class like you would a function, and an instance of the class (a Whiskey object) is returned:"
   ]
  },
  {
   "cell_type": "code",
   "execution_count": 4,
   "metadata": {},
   "outputs": [],
   "source": [
    "w = Whiskey()"
   ]
  },
  {
   "cell_type": "markdown",
   "metadata": {},
   "source": [
    "Use dot-notation to refer to the object attributes<br>\n",
    "Retreive the *volume* attribute of the object:"
   ]
  },
  {
   "cell_type": "code",
   "execution_count": 4,
   "metadata": {
    "scrolled": true
   },
   "outputs": [
    {
     "data": {
      "text/plain": [
       "750"
      ]
     },
     "execution_count": 4,
     "metadata": {},
     "output_type": "execute_result"
    }
   ],
   "source": [
    "w.volume"
   ]
  },
  {
   "cell_type": "markdown",
   "metadata": {},
   "source": [
    "Notice the relationship here:\n",
    "- A class is a *type* of object\n",
    "- An object is an *instance* of a class\n",
    "\n",
    "The class definition is a blueprint for a certain type of object"
   ]
  },
  {
   "cell_type": "markdown",
   "metadata": {},
   "source": [
    "Observe how this works with Python built-in classes:\n",
    "- Str is class - a type of object\n",
    "- A string of text like 'abc' is an instance of str"
   ]
  },
  {
   "cell_type": "code",
   "execution_count": 6,
   "metadata": {},
   "outputs": [
    {
     "data": {
      "text/plain": [
       "type"
      ]
     },
     "execution_count": 6,
     "metadata": {},
     "output_type": "execute_result"
    }
   ],
   "source": [
    "type(str)"
   ]
  },
  {
   "cell_type": "code",
   "execution_count": 7,
   "metadata": {
    "scrolled": true
   },
   "outputs": [
    {
     "data": {
      "text/plain": [
       "str"
      ]
     },
     "execution_count": 7,
     "metadata": {},
     "output_type": "execute_result"
    }
   ],
   "source": [
    "type('abc')"
   ]
  },
  {
   "cell_type": "markdown",
   "metadata": {},
   "source": [
    "Same with the custom Whiskey class:\n",
    "- Whiskey is a class - a type of object\n",
    "- We create instances of the whiskey class (\\_\\_main\\_\\_ is the module currently being executed)"
   ]
  },
  {
   "cell_type": "code",
   "execution_count": 8,
   "metadata": {},
   "outputs": [
    {
     "data": {
      "text/plain": [
       "type"
      ]
     },
     "execution_count": 8,
     "metadata": {},
     "output_type": "execute_result"
    }
   ],
   "source": [
    "type(Whiskey)"
   ]
  },
  {
   "cell_type": "code",
   "execution_count": 9,
   "metadata": {
    "scrolled": true
   },
   "outputs": [
    {
     "data": {
      "text/plain": [
       "__main__.Whiskey"
      ]
     },
     "execution_count": 9,
     "metadata": {},
     "output_type": "execute_result"
    }
   ],
   "source": [
    "type(w)"
   ]
  },
  {
   "cell_type": "markdown",
   "metadata": {},
   "source": [
    "## Methods\n",
    "The data piece is incorporated above, let's couple some logic into this class.\n",
    "\n",
    "**Methods** are a special kind of funtion that are related to a class.<br>\n",
    "To write a method, you basically use function definition syntax inside of a class definition.<br>\n",
    "**NOTE**: Methods have a required first argument that by convention is called *self*"
   ]
  },
  {
   "cell_type": "markdown",
   "metadata": {},
   "source": [
    "Write a print_info() method"
   ]
  },
  {
   "cell_type": "code",
   "execution_count": 10,
   "metadata": {},
   "outputs": [],
   "source": [
    "class Whiskey:\n",
    "    volume = 750\n",
    "    \n",
    "    def print_info(self):\n",
    "        print(f'Volume is {self.volume}')"
   ]
  },
  {
   "cell_type": "markdown",
   "metadata": {},
   "source": [
    "Create an instance of the whiskey class:"
   ]
  },
  {
   "cell_type": "code",
   "execution_count": 11,
   "metadata": {},
   "outputs": [
    {
     "data": {
      "text/plain": [
       "750"
      ]
     },
     "execution_count": 11,
     "metadata": {},
     "output_type": "execute_result"
    }
   ],
   "source": [
    "w = Whiskey()\n",
    "w.volume"
   ]
  },
  {
   "cell_type": "markdown",
   "metadata": {},
   "source": [
    "Execute the method with dot-notation"
   ]
  },
  {
   "cell_type": "code",
   "execution_count": 12,
   "metadata": {},
   "outputs": [
    {
     "name": "stdout",
     "output_type": "stream",
     "text": [
      "Volume is 750\n"
     ]
    }
   ],
   "source": [
    "w.print_info()"
   ]
  },
  {
   "cell_type": "markdown",
   "metadata": {},
   "source": [
    "*The thing to notice here* is inside print info, volume is referenced as \"self.volume\".<br>\n",
    "In this instance of the Whiskey class, when the print_info method is called, it *does not* refer back to the class definition to get the volume attribute - the class instance references itself (self) to retreive the attribute value."
   ]
  },
  {
   "cell_type": "markdown",
   "metadata": {},
   "source": [
    "## \\_\\_init\\_\\_ - The magic/dunder method for initialization"
   ]
  },
  {
   "cell_type": "markdown",
   "metadata": {},
   "source": [
    "Volume is a silly thing to set as a class attribute, because not all whiskey is 750ml.<br>\n",
    "A better class attribute is *regulated* - all whiskey is regulated.<br><br>\n",
    "Parameterize the class to allow the volume attribute to be set when the object is instantiated.<br><br>\n",
    "There are some pre-defined double-underscore methods you can use (also called dunder methods or magic methods)<br>\n",
    "\\_\\_init\\_\\_ is an initialization method<br>\n",
    "When the class is instantiated:\n",
    "- The object is created\n",
    "- If there is an initialization method, that logic is run on the object instance immediately after it is created.\n",
    "\n",
    "The initialization method can accept arguments.<br><br>\n",
    "Accept an argument and set a instance attribute with the init method:"
   ]
  },
  {
   "cell_type": "code",
   "execution_count": 13,
   "metadata": {},
   "outputs": [],
   "source": [
    "class Whiskey:\n",
    "    regulated = True\n",
    "    \n",
    "    def __init__(self, volume):\n",
    "        self.volume = volume\n",
    "    \n",
    "    def print_info(self):\n",
    "        print(f'Volume is {self.volume}')"
   ]
  },
  {
   "cell_type": "markdown",
   "metadata": {},
   "source": [
    "The Whiskey class now accepts an argument"
   ]
  },
  {
   "cell_type": "code",
   "execution_count": 14,
   "metadata": {},
   "outputs": [],
   "source": [
    "w = Whiskey(700)"
   ]
  },
  {
   "cell_type": "markdown",
   "metadata": {},
   "source": [
    "Again, when the print_info method is called, it looks at this particular instance of the object to get the value"
   ]
  },
  {
   "cell_type": "code",
   "execution_count": 16,
   "metadata": {},
   "outputs": [
    {
     "name": "stdout",
     "output_type": "stream",
     "text": [
      "Volume is 700\n"
     ]
    }
   ],
   "source": [
    "w.print_info()"
   ]
  },
  {
   "cell_type": "markdown",
   "metadata": {},
   "source": [
    "Refine the whiskey class:\n",
    "- Drop the regulated class attribute\n",
    "- Add another parameter on the init method called brand (to be supplied as an argument when object is instantiated)\n",
    "- Update print_info() method"
   ]
  },
  {
   "cell_type": "code",
   "execution_count": 17,
   "metadata": {},
   "outputs": [],
   "source": [
    "class Whiskey:\n",
    "    def __init__(self, brand, volume):\n",
    "        self.brand = brand\n",
    "        self.volume = volume\n",
    "    \n",
    "    def print_info(self):\n",
    "        print(f'{self.brand} | {self.volume}ml')"
   ]
  },
  {
   "cell_type": "markdown",
   "metadata": {},
   "source": [
    "Class definition is a blueprint, it can be reused to make many instances.<br><br>\n",
    "Create a list to hold some instances of the whiskey class"
   ]
  },
  {
   "cell_type": "code",
   "execution_count": 18,
   "metadata": {},
   "outputs": [],
   "source": [
    "whiskey_list = []"
   ]
  },
  {
   "cell_type": "markdown",
   "metadata": {},
   "source": [
    "Create an instance of the Whiskey class and append to the list, then do it again (changing parameters)"
   ]
  },
  {
   "cell_type": "code",
   "execution_count": 19,
   "metadata": {},
   "outputs": [],
   "source": [
    "w = Whiskey('Woodford', 750)\n",
    "whiskey_list.append(w)"
   ]
  },
  {
   "cell_type": "code",
   "execution_count": 20,
   "metadata": {},
   "outputs": [],
   "source": [
    "w = Whiskey('Makers', 375)\n",
    "whiskey_list.append(w)"
   ]
  },
  {
   "cell_type": "markdown",
   "metadata": {},
   "source": [
    "Now can iterate through the list, and call print_info method of each object in the list to see it's attributes:"
   ]
  },
  {
   "cell_type": "code",
   "execution_count": 21,
   "metadata": {},
   "outputs": [
    {
     "name": "stdout",
     "output_type": "stream",
     "text": [
      "Woodford | 750ml\n",
      "Makers | 375ml\n"
     ]
    }
   ],
   "source": [
    "for w in whiskey_list:\n",
    "    w.print_info()"
   ]
  },
  {
   "cell_type": "markdown",
   "metadata": {},
   "source": [
    "## Final Exercise\n",
    "*Whiskey Collection App*<br><br>\n",
    "Create a new command-line application, that keeps track of the whiskies in a collection, and the volume of each.<br><br>\n",
    "\n",
    "Requirements:\n",
    "- Implement the solution by writing two classes (Whiskey, and Collection)\n",
    "- User can: View the collection, Add a bottle, have a Pour, or Exit\n",
    "- The bottles and volume of each should be saved to a file to persist state of the app between sessions."
   ]
  },
  {
   "cell_type": "markdown",
   "metadata": {},
   "source": [
    "*The following code is contained in collection.py*<br><br>\n",
    "The file collection.dat was manually created in the same directory, containing the string: \"[]\""
   ]
  },
  {
   "cell_type": "code",
   "execution_count": null,
   "metadata": {},
   "outputs": [
    {
     "name": "stdout",
     "output_type": "stream",
     "text": [
      "Would you like to View Bottles (V), Add a Bottle (A), Have a Pour (P), or Exit (X)? v\n",
      "Listing Collection Contents:\n",
      "Would you like to View Bottles (V), Add a Bottle (A), Have a Pour (P), or Exit (X)? a\n",
      "what is the brand? Pappy 15\n",
      "how many ml are in the bottle? 750\n",
      "Would you like to View Bottles (V), Add a Bottle (A), Have a Pour (P), or Exit (X)? v\n",
      "Listing Collection Contents:\n",
      "Pappy 15: 750.0 ml\n",
      "Would you like to View Bottles (V), Add a Bottle (A), Have a Pour (P), or Exit (X)? p\n",
      "what bottle are you having? Pappy 15\n",
      "how big was the pour? 100\n",
      "Would you like to View Bottles (V), Add a Bottle (A), Have a Pour (P), or Exit (X)? v\n",
      "Listing Collection Contents:\n",
      "Pappy 15: 650.0 ml\n"
     ]
    }
   ],
   "source": [
    "#!/usr/bin/env python3\n",
    "\n",
    "import json\n",
    "\n",
    "class Whiskey:\n",
    "    def __init__(self, brand, volume):\n",
    "        self.brand = brand\n",
    "        self.volume = volume\n",
    "    \n",
    "    def pour(self, pour_vol):\n",
    "        self.volume -= pour_vol\n",
    "\n",
    "#w = Whiskey('Michters 10', 750)\n",
    "#print(w.volume)\n",
    "#w.pour(25)\n",
    "#print(w.volume)\n",
    "\n",
    "class Collection:\n",
    "    bottles = {}\n",
    "\n",
    "    def __init__(self, file_nm):\n",
    "        self.file_nm = file_nm\n",
    "\n",
    "    def add(self, bottle):\n",
    "        self.bottles[bottle.brand] = bottle\n",
    "        self.save()\n",
    "\n",
    "    def show(self):\n",
    "        print('Listing Collection Contents:')\n",
    "        for k, v in self.bottles.items():\n",
    "            print(f'{k}: {v.volume} ml')\n",
    "\n",
    "    def save(self):\n",
    "        save_list = []\n",
    "        for whiskey in self.bottles.values():\n",
    "            save_list.append({\n",
    "                \"brand\": whiskey.brand,\n",
    "                \"volume\": whiskey.volume\n",
    "                })\n",
    "        save_text = json.dumps(save_list)\n",
    "        with open(self.file_nm, 'w') as f:\n",
    "            f.write(save_text)\n",
    "\n",
    "    def populate(self):\n",
    "        with open(self.file_nm, 'r') as f:\n",
    "            data = json.loads(f.read())\n",
    "        for item in data:\n",
    "            self.bottles[item['brand']] = Whiskey(item['brand'], item['volume'])\n",
    "\n",
    "#wc = Collection(None)\n",
    "#w = Whiskey('Michters 10', 750)\n",
    "#wc.add(w)\n",
    "#w = Whiskey('Makers', 750)\n",
    "#wc.add(w)\n",
    "#wc.bottles['Makers'].pour(10)\n",
    "#wc.show()\n",
    "\n",
    "\n",
    "\n",
    "running = True\n",
    "file_nm = 'collection.dat'\n",
    "\n",
    "wc = Collection(file_nm)\n",
    "wc.populate()\n",
    "\n",
    "while running:\n",
    "    user_input = input('Would you like to View Bottles (V), Add a Bottle (A), Have a Pour (P), or Exit (X)? ')\n",
    "    if user_input.upper() == 'V':\n",
    "        wc.show()\n",
    "    elif user_input.upper() == 'A':\n",
    "        brand = input(\"what is the brand? \")\n",
    "        volume = float(input('how many ml are in the bottle? '))\n",
    "        wc.add(Whiskey(brand, volume))\n",
    "    elif user_input.upper() == 'P':\n",
    "        bottle = input('what bottle are you having? ')\n",
    "        pour_size = float(input('how big was the pour? '))\n",
    "        wc.bottles[bottle].pour(pour_size)\n",
    "        wc.save()\n",
    "    elif user_input.upper() == 'X':\n",
    "        running = False\n",
    "    else:\n",
    "        print('Did not understand input')\n"
   ]
  }
 ],
 "metadata": {
  "kernelspec": {
   "display_name": "Python 3",
   "language": "python",
   "name": "python3"
  },
  "language_info": {
   "codemirror_mode": {
    "name": "ipython",
    "version": 3
   },
   "file_extension": ".py",
   "mimetype": "text/x-python",
   "name": "python",
   "nbconvert_exporter": "python",
   "pygments_lexer": "ipython3",
   "version": "3.7.1"
  }
 },
 "nbformat": 4,
 "nbformat_minor": 2
}
