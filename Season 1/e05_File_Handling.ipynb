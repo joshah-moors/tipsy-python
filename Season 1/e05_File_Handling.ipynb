{
 "cells": [
  {
   "cell_type": "markdown",
   "metadata": {},
   "source": [
    "# Tipsy Python\n",
    "*Season 1 | Episode 5*<br>\n",
    "Video: https://youtu.be/SLUb9_AeW6c\n",
    "\n",
    "## File Handling"
   ]
  },
  {
   "cell_type": "markdown",
   "metadata": {},
   "source": [
    "Import the os (operating system module) to view the file system"
   ]
  },
  {
   "cell_type": "code",
   "execution_count": 2,
   "metadata": {},
   "outputs": [],
   "source": [
    "import os"
   ]
  },
  {
   "cell_type": "markdown",
   "metadata": {},
   "source": [
    "The .getcwd() method prints the name of the current working directory - this is important for understanding where your program is running at."
   ]
  },
  {
   "cell_type": "code",
   "execution_count": 3,
   "metadata": {},
   "outputs": [
    {
     "data": {
      "text/plain": [
       "'C:\\\\Users\\\\Joshah\\\\Desktop\\\\Git Repo\\\\tipsy-python\\\\Season 1'"
      ]
     },
     "execution_count": 3,
     "metadata": {},
     "output_type": "execute_result"
    }
   ],
   "source": [
    "os.getcwd()"
   ]
  },
  {
   "cell_type": "markdown",
   "metadata": {},
   "source": [
    "The .listdir() method can be used to print a list of the objects in the working directory"
   ]
  },
  {
   "cell_type": "code",
   "execution_count": 4,
   "metadata": {
    "scrolled": true
   },
   "outputs": [
    {
     "data": {
      "text/plain": [
       "['.ipynb_checkpoints',\n",
       " 'e01_Variables_DataTypes.ipynb',\n",
       " 'e02_Collections_Lists_Sets_Tuples.ipynb',\n",
       " 'e03_Iterables.ipynb',\n",
       " 'e04_Conditional_Expressions.ipynb',\n",
       " 'e05_File_Handling.ipynb',\n",
       " 'e06_Dictionaries.ipynb',\n",
       " 'e07_Functions.ipynb',\n",
       " 'e08_Classes_Objects.ipynb',\n",
       " 'e09_Excel_Processing.ipynb',\n",
       " 'e10_Web_Requests.ipynb']"
      ]
     },
     "execution_count": 4,
     "metadata": {},
     "output_type": "execute_result"
    }
   ],
   "source": [
    "os.listdir()"
   ]
  },
  {
   "cell_type": "markdown",
   "metadata": {},
   "source": [
    "## open()\n",
    "The open() function from the python standard-library can be used to open files for reading and writing.<br>\n",
    "The open function accepts two arguments:\n",
    "- The name of the file as a string\n",
    "- The open mode ('r' - read, 'w' - write, 'a' - append)<br>\n",
    "\n",
    "**NOTE**: A complete list of the open modes can be found in the Python documentation: https://docs.python.org/3/library/functions.html#open"
   ]
  },
  {
   "cell_type": "markdown",
   "metadata": {},
   "source": [
    "Open a file for writing, write the sting \"Hello tipsy\" to the file, and close the file."
   ]
  },
  {
   "cell_type": "code",
   "execution_count": 5,
   "metadata": {},
   "outputs": [],
   "source": [
    "file = open('tipsy.txt', 'w')\n",
    "file.write('Hello tipsy')\n",
    "file.close()"
   ]
  },
  {
   "cell_type": "markdown",
   "metadata": {},
   "source": [
    "When I use .listdir() I see the file was created"
   ]
  },
  {
   "cell_type": "code",
   "execution_count": 6,
   "metadata": {},
   "outputs": [
    {
     "data": {
      "text/plain": [
       "['.ipynb_checkpoints',\n",
       " 'e01_Variables_DataTypes.ipynb',\n",
       " 'e02_Collections_Lists_Sets_Tuples.ipynb',\n",
       " 'e03_Iterables.ipynb',\n",
       " 'e04_Conditional_Expressions.ipynb',\n",
       " 'e05_File_Handling.ipynb',\n",
       " 'e06_Dictionaries.ipynb',\n",
       " 'e07_Functions.ipynb',\n",
       " 'e08_Classes_Objects.ipynb',\n",
       " 'e09_Excel_Processing.ipynb',\n",
       " 'e10_Web_Requests.ipynb',\n",
       " 'tipsy.txt']"
      ]
     },
     "execution_count": 6,
     "metadata": {},
     "output_type": "execute_result"
    }
   ],
   "source": [
    "os.listdir()"
   ]
  },
  {
   "cell_type": "markdown",
   "metadata": {},
   "source": [
    "Now open the file in read mode, read the contents to a variable called 'content', and close the file"
   ]
  },
  {
   "cell_type": "code",
   "execution_count": 7,
   "metadata": {
    "scrolled": true
   },
   "outputs": [
    {
     "name": "stdout",
     "output_type": "stream",
     "text": [
      "Hello tipsy\n"
     ]
    }
   ],
   "source": [
    "file = open('tipsy.txt', 'r')\n",
    "content = file.read()\n",
    "file.close()\n",
    "print(content)"
   ]
  },
  {
   "cell_type": "markdown",
   "metadata": {},
   "source": [
    "To save the trouble of opening and closing the file, use a **context manager**.<br>\n",
    "A context manager performs some commands in the context of an open resource (like a file).<br><br>\n",
    "When using a context manager, the dedent performs the close operation for use."
   ]
  },
  {
   "cell_type": "code",
   "execution_count": 8,
   "metadata": {},
   "outputs": [
    {
     "name": "stdout",
     "output_type": "stream",
     "text": [
      "Hello tipsy\n"
     ]
    }
   ],
   "source": [
    "with open('tipsy.txt', 'r') as file:\n",
    "    content = file.read()\n",
    "\n",
    "print(content)"
   ]
  },
  {
   "cell_type": "markdown",
   "metadata": {},
   "source": [
    "**NOTE**: If I try to read the file twice while only opening for reading once, it fails to read twice."
   ]
  },
  {
   "cell_type": "code",
   "execution_count": 9,
   "metadata": {},
   "outputs": [
    {
     "name": "stdout",
     "output_type": "stream",
     "text": [
      "Hello tipsy\n",
      "\n"
     ]
    }
   ],
   "source": [
    "with open('tipsy.txt', 'r') as file:\n",
    "    content = file.read()\n",
    "    content2 = file.read()\n",
    "\n",
    "print(content)\n",
    "print(content2)"
   ]
  },
  {
   "cell_type": "markdown",
   "metadata": {},
   "source": [
    "This is because there is a file pointer that keeps track of position when reading the file.<br>\n",
    "The position of the pointer does not reset unless we explicitly tell it to."
   ]
  },
  {
   "cell_type": "markdown",
   "metadata": {},
   "source": [
    "To reset the position of the pointer, use the .seek() method on the file object"
   ]
  },
  {
   "cell_type": "code",
   "execution_count": 10,
   "metadata": {
    "scrolled": true
   },
   "outputs": [
    {
     "name": "stdout",
     "output_type": "stream",
     "text": [
      "Hello tipsy\n",
      "Hello tipsy\n"
     ]
    }
   ],
   "source": [
    "with open('tipsy.txt', 'r') as file:\n",
    "    content = file.read()\n",
    "    file.seek(0)\n",
    "    content2 = file.read()\n",
    "\n",
    "print(content)\n",
    "print(content2)"
   ]
  },
  {
   "cell_type": "markdown",
   "metadata": {},
   "source": [
    "## Processing Structured Data"
   ]
  },
  {
   "cell_type": "markdown",
   "metadata": {},
   "source": [
    "**NOTE**: I've staged a file named whiskey_data.dsv with the following content:\n",
    "```\n",
    "Jim Beam Devil's Cut|90\n",
    "Old Ezra 7 Year Barrel Strength|117\n",
    "Evan Williams Single Barrel|86.6\n",
    "Eagle Rare|90\n",
    "1792 Single Barrel|98.6\n",
    "```"
   ]
  },
  {
   "cell_type": "markdown",
   "metadata": {},
   "source": [
    "Read in the delimiter separated value file"
   ]
  },
  {
   "cell_type": "code",
   "execution_count": 12,
   "metadata": {
    "scrolled": true
   },
   "outputs": [
    {
     "name": "stdout",
     "output_type": "stream",
     "text": [
      "Jim Beam Devil's Cut|90\n",
      "Old Ezra 7 Year Barrel Strength|117\n",
      "Evan Williams Single Barrel|86.6\n",
      "Eagle Rare|90\n",
      "1792 Single Barrel|98.6\n"
     ]
    }
   ],
   "source": [
    "with open('whiskey_data.dsv', 'r') as f:\n",
    "    data = f.read()\n",
    "    \n",
    "print(data)"
   ]
  },
  {
   "cell_type": "markdown",
   "metadata": {},
   "source": [
    "Use the .split() method used in the last lesson to split the long-text string into a list of strings.<br>\n",
    "Pass an argument to avoid the default behavior of spliting by space - specify to split by *\\n* the new-line character."
   ]
  },
  {
   "cell_type": "code",
   "execution_count": 15,
   "metadata": {
    "scrolled": true
   },
   "outputs": [
    {
     "name": "stdout",
     "output_type": "stream",
     "text": [
      "[\"Jim Beam Devil's Cut|90\", 'Old Ezra 7 Year Barrel Strength|117', 'Evan Williams Single Barrel|86.6', 'Eagle Rare|90', '1792 Single Barrel|98.6']\n"
     ]
    }
   ],
   "source": [
    "lines = data.split('\\n')\n",
    "print(lines)"
   ]
  },
  {
   "cell_type": "markdown",
   "metadata": {},
   "source": [
    "Iterate through the lines of the file:\n",
    "- Split each line by the pipe ( | ) character to create a list where the first value is the whiskey name, and the second value is the proof.<br>\n",
    "\n",
    "To view the whiskies over 90 proof, convert the value in index 1 to a float, then use a comparison operation, and conditionally print the whiskey name."
   ]
  },
  {
   "cell_type": "code",
   "execution_count": 16,
   "metadata": {},
   "outputs": [
    {
     "name": "stdout",
     "output_type": "stream",
     "text": [
      "The whiskies over 90 proof are:\n",
      "Old Ezra 7 Year Barrel Strength\n",
      "1792 Single Barrel\n"
     ]
    }
   ],
   "source": [
    "print('The whiskies over 90 proof are:')\n",
    "for line in lines:\n",
    "    parts = line.split('|')\n",
    "    if float(parts[1]) > 90:\n",
    "        print(parts[0])"
   ]
  },
  {
   "cell_type": "markdown",
   "metadata": {},
   "source": [
    "## Final Exercise\n",
    "**NEW APP**: Whiskey Review App<br><br>\n",
    "A negative aspect of the sales tax calculator app was that it did not save state between sessions - everytime you open the app, the history is gone.<br>\n",
    "Let's adjust for this in the whiskey review app by writing the data to a file, and reading the file into memory when the app restarts.<br><br>\n",
    "\n",
    "Requirements:\n",
    "- Prompt the user for the options: Read a review, write a review, exit\n",
    "- If the user selects to write a review: Accept some input and save a newline of data to a file\n",
    "- If the user select read: Open the file, read the lines, then format and print them\n",
    "- If exit: terminate the loop"
   ]
  },
  {
   "cell_type": "markdown",
   "metadata": {},
   "source": [
    "*The following code is contained in review_app.py*"
   ]
  },
  {
   "cell_type": "code",
   "execution_count": 14,
   "metadata": {},
   "outputs": [
    {
     "name": "stdout",
     "output_type": "stream",
     "text": [
      "Write a review (W), Read Reviews (R), or Exit (X): w\n",
      "Enter the whiskey name: jim beam\n",
      "Enter the Rating (1 - 10): 6\n",
      "Enter tasting notes: FUNKY\n",
      "\n",
      "Review Saved\n",
      "\n",
      "Write a review (W), Read Reviews (R), or Exit (X): r\n",
      "\n",
      "Whiskey: jim beam\n",
      "Rating: 6\n",
      "Notes: FUNKY\n",
      "---\n",
      "\n",
      "\n",
      "Write a review (W), Read Reviews (R), or Exit (X): x\n"
     ]
    }
   ],
   "source": [
    "#!/usr/bin/env python3\n",
    "\n",
    "running = True\n",
    "data_file = 'data.dat'\n",
    "\n",
    "while running:\n",
    "    user_option = input('Write a review (W), Read Reviews (R), or Exit (X): ')\n",
    "    if user_option.upper() == 'W':\n",
    "        whiskey = input('Enter the whiskey name: ')\n",
    "        rating = input('Enter the Rating (1 - 10): ')\n",
    "        notes = input('Enter tasting notes: ')\n",
    "        with open(data_file, 'a') as f:\n",
    "            f.write(f'{whiskey}|{rating}|{notes}\\n')\n",
    "        print('\\nReview Saved\\n')\n",
    "    elif user_option.upper() == 'R':\n",
    "        print('')\n",
    "        with open(data_file, 'r') as f:\n",
    "            data = f.read()\n",
    "        lines = data.split('\\n')\n",
    "        for line in lines:\n",
    "            # Ensure line contains more than 2 pipe characters\n",
    "            if len(line) > 2:\n",
    "                parts = line.split('|')\n",
    "                print(f\"Whiskey: {parts[0]}\\nRating: {parts[1]}\\nNotes: {parts[2]}\\n---\")\n",
    "        print('\\n')\n",
    "    elif user_option.upper() == 'X':\n",
    "        running = False\n",
    "    else:\n",
    "        print('Cannot process the input')\n"
   ]
  }
 ],
 "metadata": {
  "kernelspec": {
   "display_name": "Python 3",
   "language": "python",
   "name": "python3"
  },
  "language_info": {
   "codemirror_mode": {
    "name": "ipython",
    "version": 3
   },
   "file_extension": ".py",
   "mimetype": "text/x-python",
   "name": "python",
   "nbconvert_exporter": "python",
   "pygments_lexer": "ipython3",
   "version": "3.7.1"
  }
 },
 "nbformat": 4,
 "nbformat_minor": 2
}
