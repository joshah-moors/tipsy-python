{
 "cells": [
  {
   "cell_type": "markdown",
   "metadata": {},
   "source": [
    "# Tipsy Python\n",
    "*Season 1 | Episode 2*<br>\n",
    "Video: https://youtu.be/eHkSuZlBwus\n",
    "\n",
    "## Collections: Lists (sets and tuples)"
   ]
  },
  {
   "cell_type": "markdown",
   "metadata": {},
   "source": [
    "Python has collection datatypes which are objects that contain more objects.\n",
    "\n",
    "The most common collection type is list.<br><br>\n",
    "There are 3 important properties of lists:\n",
    "- Mutable (changable)\n",
    "- Ordered\n",
    "- Can contain duplicate values\n",
    "\n"
   ]
  },
  {
   "cell_type": "code",
   "execution_count": 1,
   "metadata": {
    "scrolled": true
   },
   "outputs": [],
   "source": [
    "type([])"
   ]
  },
  {
   "cell_type": "code",
   "execution_count": 2,
   "metadata": {},
   "outputs": [],
   "source": [
    "a = []\n",
    "print(a)"
   ]
  },
  {
   "cell_type": "code",
   "execution_count": 3,
   "metadata": {},
   "outputs": [
    {
     "name": "stdout",
     "output_type": "stream",
     "text": [
      "[]\n"
     ]
    }
   ],
   "source": [
    "b = list()\n",
    "print(b)"
   ]
  },
  {
   "cell_type": "markdown",
   "metadata": {},
   "source": [
    "The standard library *list()* function can be used with no arguments to return an empty list as shown above.<br>\n",
    "More often, when I am initializing a empty list I just set a variable equal to empty brackets."
   ]
  },
  {
   "cell_type": "markdown",
   "metadata": {},
   "source": [
    "Collection objects hold other objects - create a list containing some integers"
   ]
  },
  {
   "cell_type": "code",
   "execution_count": 4,
   "metadata": {},
   "outputs": [],
   "source": [
    "prices = [50, 100, 200]"
   ]
  },
  {
   "cell_type": "code",
   "execution_count": 5,
   "metadata": {},
   "outputs": [
    {
     "name": "stdout",
     "output_type": "stream",
     "text": [
      "[50, 100, 200]\n"
     ]
    }
   ],
   "source": [
    "print(prices)"
   ]
  },
  {
   "cell_type": "markdown",
   "metadata": {},
   "source": [
    "One of the important properties about lists is that they can contain duplicates"
   ]
  },
  {
   "cell_type": "code",
   "execution_count": 6,
   "metadata": {
    "scrolled": true
   },
   "outputs": [
    {
     "name": "stdout",
     "output_type": "stream",
     "text": [
      "[50, 100, 200, 50, 50]\n"
     ]
    }
   ],
   "source": [
    "prices = [50, 100, 200, 50, 50]\n",
    "print(prices)"
   ]
  },
  {
   "cell_type": "markdown",
   "metadata": {},
   "source": [
    "In contrast the **set** object works a lot like a list, but cannot hold duplicates"
   ]
  },
  {
   "cell_type": "code",
   "execution_count": 7,
   "metadata": {},
   "outputs": [
    {
     "name": "stdout",
     "output_type": "stream",
     "text": [
      "{200, 50, 100}\n"
     ]
    }
   ],
   "source": [
    "prices = {50, 100, 200, 50, 50}\n",
    "print(prices)"
   ]
  },
  {
   "cell_type": "code",
   "execution_count": 8,
   "metadata": {},
   "outputs": [
    {
     "name": "stdout",
     "output_type": "stream",
     "text": [
      "<class 'set'>\n"
     ]
    }
   ],
   "source": [
    "print(type(prices))"
   ]
  },
  {
   "cell_type": "markdown",
   "metadata": {},
   "source": [
    "There are some methods to help perform common operations on lists.\n",
    "#### .append()\n",
    "The append() method accepts an object as an argument and appends it to the end of the list."
   ]
  },
  {
   "cell_type": "code",
   "execution_count": 9,
   "metadata": {
    "scrolled": true
   },
   "outputs": [
    {
     "name": "stdout",
     "output_type": "stream",
     "text": [
      "[50, 100, 200, 50, 50]\n"
     ]
    }
   ],
   "source": [
    "prices = [50, 100, 200, 50, 50]\n",
    "print(prices)"
   ]
  },
  {
   "cell_type": "code",
   "execution_count": 10,
   "metadata": {},
   "outputs": [
    {
     "name": "stdout",
     "output_type": "stream",
     "text": [
      "[50, 100, 200, 50, 50, 17]\n"
     ]
    }
   ],
   "source": [
    "prices.append(17)\n",
    "print(prices)"
   ]
  },
  {
   "cell_type": "markdown",
   "metadata": {},
   "source": [
    "Append take a single argument, but can be ran multiple times on a list"
   ]
  },
  {
   "cell_type": "code",
   "execution_count": 11,
   "metadata": {
    "scrolled": true
   },
   "outputs": [
    {
     "name": "stdout",
     "output_type": "stream",
     "text": [
      "[50, 100, 200, 50, 50, 17, 20, 20, 25]\n"
     ]
    }
   ],
   "source": [
    "prices.append(20)\n",
    "prices.append(20)\n",
    "prices.append(25)\n",
    "print(prices)"
   ]
  },
  {
   "cell_type": "markdown",
   "metadata": {},
   "source": [
    "Only using integers so far, but the append method accepts objects of any type"
   ]
  },
  {
   "cell_type": "code",
   "execution_count": 12,
   "metadata": {},
   "outputs": [
    {
     "name": "stdout",
     "output_type": "stream",
     "text": [
      "[50, 100, 200, 50, 50, 17, 20, 20, 25, 'a']\n"
     ]
    }
   ],
   "source": [
    "prices.append('a')\n",
    "print(prices)"
   ]
  },
  {
   "cell_type": "code",
   "execution_count": 13,
   "metadata": {},
   "outputs": [
    {
     "name": "stdout",
     "output_type": "stream",
     "text": [
      "[50, 100, 200, 50, 50, 17, 20, 20, 25, 'a', True]\n"
     ]
    }
   ],
   "source": [
    "prices.append(True)\n",
    "print(prices)"
   ]
  },
  {
   "cell_type": "code",
   "execution_count": 14,
   "metadata": {},
   "outputs": [
    {
     "name": "stdout",
     "output_type": "stream",
     "text": [
      "[50, 100, 200, 50, 50, 17, 20, 20, 25, 'a', True, ['a', 'b']]\n"
     ]
    }
   ],
   "source": [
    "prices.append(['a', 'b'])\n",
    "print(prices)"
   ]
  },
  {
   "cell_type": "markdown",
   "metadata": {},
   "source": [
    "#### .remove()\n",
    "\n",
    "The remove() method accepts an object as an argument and remove it from the list"
   ]
  },
  {
   "cell_type": "code",
   "execution_count": 15,
   "metadata": {
    "scrolled": true
   },
   "outputs": [
    {
     "name": "stdout",
     "output_type": "stream",
     "text": [
      "[100, 200, 50, 50, 17, 20, 20, 25, 'a', True, ['a', 'b']]\n"
     ]
    }
   ],
   "source": [
    "prices.remove(50)\n",
    "print(prices)"
   ]
  },
  {
   "cell_type": "markdown",
   "metadata": {},
   "source": [
    "**NOTE:** remove() only removes the first instance of an object that it finds, so it may need to be executed multiple time if using remove on all instances of an object."
   ]
  },
  {
   "cell_type": "code",
   "execution_count": 16,
   "metadata": {},
   "outputs": [
    {
     "name": "stdout",
     "output_type": "stream",
     "text": [
      "[100, 200, 17, 20, 20, 25, 'a', True, ['a', 'b']]\n"
     ]
    }
   ],
   "source": [
    "prices.remove(50)\n",
    "prices.remove(50)\n",
    "print(prices)"
   ]
  },
  {
   "cell_type": "markdown",
   "metadata": {},
   "source": [
    "#### .pop()\n",
    "When used with no arguments inside the parentheses, the pop method removes an item from the list **and** returns/outputs the value at the end (right-side) of the list"
   ]
  },
  {
   "cell_type": "code",
   "execution_count": 17,
   "metadata": {},
   "outputs": [
    {
     "name": "stdout",
     "output_type": "stream",
     "text": [
      "['a', 'b']\n",
      "[100, 200, 17, 20, 20, 25, 'a', True]\n"
     ]
    }
   ],
   "source": [
    "print(prices.pop())\n",
    "print(prices)"
   ]
  },
  {
   "cell_type": "markdown",
   "metadata": {},
   "source": [
    "Run the .pop() method a couple more times to remove/return items from the list"
   ]
  },
  {
   "cell_type": "code",
   "execution_count": 18,
   "metadata": {},
   "outputs": [
    {
     "name": "stdout",
     "output_type": "stream",
     "text": [
      "True\n",
      "[100, 200, 17, 20, 20, 25, 'a']\n"
     ]
    }
   ],
   "source": [
    "print(prices.pop())\n",
    "print(prices)"
   ]
  },
  {
   "cell_type": "code",
   "execution_count": 19,
   "metadata": {},
   "outputs": [
    {
     "name": "stdout",
     "output_type": "stream",
     "text": [
      "a\n",
      "[100, 200, 17, 20, 20, 25]\n"
     ]
    }
   ],
   "source": [
    "print(prices.pop())\n",
    "print(prices)"
   ]
  },
  {
   "cell_type": "markdown",
   "metadata": {},
   "source": [
    "The pop method also accepts an argument.<br>\n",
    "To remove the item at the beginning (left-side) of the list, add 0 as an argument inside the parenthesis"
   ]
  },
  {
   "cell_type": "code",
   "execution_count": 20,
   "metadata": {
    "scrolled": true
   },
   "outputs": [
    {
     "name": "stdout",
     "output_type": "stream",
     "text": [
      "100\n",
      "[200, 17, 20, 20, 25]\n"
     ]
    }
   ],
   "source": [
    "print(prices.pop(0))\n",
    "print(prices)"
   ]
  },
  {
   "cell_type": "markdown",
   "metadata": {},
   "source": [
    "Why does this work?<br>\n",
    "Because it's a reference to the object's *index* in the list"
   ]
  },
  {
   "cell_type": "markdown",
   "metadata": {},
   "source": [
    "### Index\n",
    "\n",
    "Index means an obects position in the list.<br>\n",
    "Python lists are zero-indexed, meaning that the index starts at zero instead of one, and increments for each position after that."
   ]
  },
  {
   "cell_type": "code",
   "execution_count": 21,
   "metadata": {},
   "outputs": [],
   "source": [
    "things = ['a', 'b', 'c', 'd']"
   ]
  },
  {
   "cell_type": "markdown",
   "metadata": {},
   "source": [
    "There is a standard library function called len() that returns the length of collection objects"
   ]
  },
  {
   "cell_type": "code",
   "execution_count": 22,
   "metadata": {},
   "outputs": [
    {
     "data": {
      "text/plain": [
       "4"
      ]
     },
     "execution_count": 22,
     "metadata": {},
     "output_type": "execute_result"
    }
   ],
   "source": [
    "len(things)"
   ]
  },
  {
   "cell_type": "markdown",
   "metadata": {},
   "source": [
    "You can reference an object in a list using bracket notation on the list object"
   ]
  },
  {
   "cell_type": "code",
   "execution_count": 23,
   "metadata": {},
   "outputs": [
    {
     "data": {
      "text/plain": [
       "'a'"
      ]
     },
     "execution_count": 23,
     "metadata": {},
     "output_type": "execute_result"
    }
   ],
   "source": [
    "things[0]"
   ]
  },
  {
   "cell_type": "code",
   "execution_count": 24,
   "metadata": {},
   "outputs": [
    {
     "data": {
      "text/plain": [
       "'b'"
      ]
     },
     "execution_count": 24,
     "metadata": {},
     "output_type": "execute_result"
    }
   ],
   "source": [
    "things[1]"
   ]
  },
  {
   "cell_type": "markdown",
   "metadata": {},
   "source": [
    "You can also take *slices* of the list with bracket notation"
   ]
  },
  {
   "cell_type": "code",
   "execution_count": 25,
   "metadata": {},
   "outputs": [
    {
     "data": {
      "text/plain": [
       "['a', 'b']"
      ]
     },
     "execution_count": 25,
     "metadata": {},
     "output_type": "execute_result"
    }
   ],
   "source": [
    "things[0:2]"
   ]
  },
  {
   "cell_type": "markdown",
   "metadata": {},
   "source": [
    "You can also use bracket notation for item assignment"
   ]
  },
  {
   "cell_type": "code",
   "execution_count": 26,
   "metadata": {},
   "outputs": [
    {
     "name": "stdout",
     "output_type": "stream",
     "text": [
      "['e', 'b', 'c', 'd']\n"
     ]
    }
   ],
   "source": [
    "things[0] = 'e'\n",
    "print(things)"
   ]
  },
  {
   "cell_type": "markdown",
   "metadata": {},
   "source": [
    "If you reference an index that is outside the bounds of the list, then python raises an **IndexError**"
   ]
  },
  {
   "cell_type": "markdown",
   "metadata": {},
   "source": [
    "## Tuple\n",
    "A tuple is another kind of collection object.<br>\n",
    "To create a tuple, you use a similar syntax as list, but using parenthesis instead of brackets."
   ]
  },
  {
   "cell_type": "code",
   "execution_count": 27,
   "metadata": {},
   "outputs": [
    {
     "data": {
      "text/plain": [
       "tuple"
      ]
     },
     "execution_count": 27,
     "metadata": {},
     "output_type": "execute_result"
    }
   ],
   "source": [
    "type(())"
   ]
  },
  {
   "cell_type": "code",
   "execution_count": 28,
   "metadata": {},
   "outputs": [],
   "source": [
    "new_tuple = ('a', 'b', 'c', 'a')"
   ]
  },
  {
   "cell_type": "code",
   "execution_count": 29,
   "metadata": {},
   "outputs": [
    {
     "name": "stdout",
     "output_type": "stream",
     "text": [
      "('a', 'b', 'c', 'a')\n"
     ]
    }
   ],
   "source": [
    "print(new_tuple)"
   ]
  },
  {
   "cell_type": "markdown",
   "metadata": {},
   "source": [
    "You can also use bracket notation to reference the items in a tuple."
   ]
  },
  {
   "cell_type": "code",
   "execution_count": 30,
   "metadata": {},
   "outputs": [
    {
     "name": "stdout",
     "output_type": "stream",
     "text": [
      "a\n"
     ]
    }
   ],
   "source": [
    "print(new_tuple[0])"
   ]
  },
  {
   "cell_type": "markdown",
   "metadata": {},
   "source": [
    "But notice that **item assignment does not work with a tuple**"
   ]
  },
  {
   "cell_type": "code",
   "execution_count": 31,
   "metadata": {},
   "outputs": [
    {
     "ename": "TypeError",
     "evalue": "'tuple' object does not support item assignment",
     "output_type": "error",
     "traceback": [
      "\u001b[1;31m---------------------------------------------------------------------------\u001b[0m",
      "\u001b[1;31mTypeError\u001b[0m                                 Traceback (most recent call last)",
      "\u001b[1;32m<ipython-input-31-8d782903be4f>\u001b[0m in \u001b[0;36m<module>\u001b[1;34m\u001b[0m\n\u001b[1;32m----> 1\u001b[1;33m \u001b[0mnew_tuple\u001b[0m\u001b[1;33m[\u001b[0m\u001b[1;36m0\u001b[0m\u001b[1;33m]\u001b[0m \u001b[1;33m=\u001b[0m \u001b[1;34m'e'\u001b[0m\u001b[1;33m\u001b[0m\u001b[1;33m\u001b[0m\u001b[0m\n\u001b[0m",
      "\u001b[1;31mTypeError\u001b[0m: 'tuple' object does not support item assignment"
     ]
    }
   ],
   "source": [
    "new_tuple[0] = 'e'"
   ]
  },
  {
   "cell_type": "markdown",
   "metadata": {},
   "source": [
    "This illustrates the list property: mutability.<br><br>\n",
    "Lists are mutable. Tuples are immutable.<br>\n",
    "Mutable means changable.<br><br>\n",
    "After a list object is created, it can be updated and changed in place. This property is not true of all collection objects. Tuples are immutable, and cannot be updated.<br>\n",
    "This may seem silly, but there are cases where data stays static during the duration of that object's lifetime and it's the developer's responsibility to choose the right type of datatype for the data."
   ]
  },
  {
   "cell_type": "markdown",
   "metadata": {},
   "source": [
    "## Final Exercise\n",
    "*Sales Tax Price Calculator* Continued...<br>\n",
    "Requirements:\n",
    "- Add history of prices that have been input - list of original and after-tax prices\n",
    "- In the history, only show the last 3 items that have been entered"
   ]
  },
  {
   "cell_type": "markdown",
   "metadata": {},
   "source": [
    "The following code is contained in *calculator.py*"
   ]
  },
  {
   "cell_type": "code",
   "execution_count": null,
   "metadata": {},
   "outputs": [
    {
     "name": "stdout",
     "output_type": "stream",
     "text": [
      "What is the item price? 5\n",
      "The total after tax is $5.41\n",
      "\n",
      "The prices history is: [(5.0, 5.4125)]\n",
      "\n",
      "\n",
      "What is the item price? 10\n",
      "The total after tax is $10.82\n",
      "\n",
      "The prices history is: [(5.0, 5.4125), (10.0, 10.825)]\n",
      "\n",
      "\n",
      "What is the item price? 20\n",
      "The total after tax is $21.65\n",
      "\n",
      "The prices history is: [(5.0, 5.4125), (10.0, 10.825), (20.0, 21.65)]\n",
      "\n",
      "\n",
      "What is the item price? 100\n",
      "The total after tax is $108.25\n",
      "\n",
      "The prices history is: [(10.0, 10.825), (20.0, 21.65), (100.0, 108.25)]\n",
      "\n",
      "\n"
     ]
    }
   ],
   "source": [
    "#!/usr/bin/env python3\n",
    "\n",
    "price_list = []\n",
    "\n",
    "while True:\n",
    "    input_price = float(input(\"What is the item price? \"))\n",
    "    tax_rate = 1.0825\n",
    "    total = tax_rate * input_price\n",
    "    this_tup = (input_price, total)\n",
    "    price_list.append(this_tup)\n",
    "    print(f'The total after tax is ${round(total, 2)}')\n",
    "    print(f'\\nThe prices history is: {price_list[-3:]}\\n\\n')"
   ]
  },
  {
   "cell_type": "markdown",
   "metadata": {},
   "source": [
    "**NOTE**: Only the most recent three prices are being shown in history list"
   ]
  }
 ],
 "metadata": {
  "kernelspec": {
   "display_name": "Python 3",
   "language": "python",
   "name": "python3"
  },
  "language_info": {
   "codemirror_mode": {
    "name": "ipython",
    "version": 3
   },
   "file_extension": ".py",
   "mimetype": "text/x-python",
   "name": "python",
   "nbconvert_exporter": "python",
   "pygments_lexer": "ipython3",
   "version": "3.7.1"
  }
 },
 "nbformat": 4,
 "nbformat_minor": 2
}
