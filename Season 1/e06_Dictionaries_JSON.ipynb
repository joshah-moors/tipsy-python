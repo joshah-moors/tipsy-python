{
 "cells": [
  {
   "cell_type": "markdown",
   "metadata": {},
   "source": [
    "# Tipsy Python\n",
    "*Season 1 | Episode 6*<br>\n",
    "Video: https://youtu.be/0nyMWRWPrwU\n",
    "\n",
    "## Dictionaries & JSON"
   ]
  },
  {
   "cell_type": "markdown",
   "metadata": {},
   "source": [
    "Remember the dictionary data type?"
   ]
  },
  {
   "cell_type": "code",
   "execution_count": 1,
   "metadata": {
    "scrolled": true
   },
   "outputs": [
    {
     "data": {
      "text/plain": [
       "dict"
      ]
     },
     "execution_count": 1,
     "metadata": {},
     "output_type": "execute_result"
    }
   ],
   "source": [
    "type({})"
   ]
  },
  {
   "cell_type": "markdown",
   "metadata": {},
   "source": [
    "## Dictionaries\n",
    "The dictionary data type in python is a collection item that holds key-value pairs of data."
   ]
  },
  {
   "cell_type": "markdown",
   "metadata": {},
   "source": [
    "You can use the dict() function to return an empty dictionary"
   ]
  },
  {
   "cell_type": "code",
   "execution_count": 2,
   "metadata": {},
   "outputs": [],
   "source": [
    "whiskey_dict = dict()"
   ]
  },
  {
   "cell_type": "code",
   "execution_count": 3,
   "metadata": {},
   "outputs": [
    {
     "name": "stdout",
     "output_type": "stream",
     "text": [
      "{}\n"
     ]
    }
   ],
   "source": [
    "print(whiskey_dict)"
   ]
  },
  {
   "cell_type": "markdown",
   "metadata": {},
   "source": [
    "Typically when I initialize a dictionary, I prefer to use the empty curly braces."
   ]
  },
  {
   "cell_type": "code",
   "execution_count": 4,
   "metadata": {},
   "outputs": [],
   "source": [
    "whiskey_dict = {}"
   ]
  },
  {
   "cell_type": "markdown",
   "metadata": {},
   "source": [
    "To set an item in a dictionary, you can use bracket-notation to reference a dictionary key name and the values you want to set it to."
   ]
  },
  {
   "cell_type": "code",
   "execution_count": 5,
   "metadata": {},
   "outputs": [],
   "source": [
    "whiskey_dict['name'] = 'Joshah'"
   ]
  },
  {
   "cell_type": "markdown",
   "metadata": {},
   "source": [
    "When you print the dictionary, the data is presented as key-value pairs"
   ]
  },
  {
   "cell_type": "code",
   "execution_count": 6,
   "metadata": {},
   "outputs": [
    {
     "name": "stdout",
     "output_type": "stream",
     "text": [
      "{'name': 'Joshah'}\n"
     ]
    }
   ],
   "source": [
    "print(whiskey_dict)"
   ]
  },
  {
   "cell_type": "markdown",
   "metadata": {},
   "source": [
    "To retreive an item from a dictionary, use the bracket notation to refer to the key name, and the value will be returned"
   ]
  },
  {
   "cell_type": "code",
   "execution_count": 7,
   "metadata": {},
   "outputs": [
    {
     "name": "stdout",
     "output_type": "stream",
     "text": [
      "Joshah\n"
     ]
    }
   ],
   "source": [
    "print(whiskey_dict['name'])"
   ]
  },
  {
   "cell_type": "markdown",
   "metadata": {},
   "source": [
    "A dictionary can hold multiple key-value pairs.<br>\n",
    "Set another item in the same dictionary:"
   ]
  },
  {
   "cell_type": "code",
   "execution_count": 8,
   "metadata": {},
   "outputs": [
    {
     "name": "stdout",
     "output_type": "stream",
     "text": [
      "{'name': 'Joshah', 'favorite': 'Jameson'}\n"
     ]
    }
   ],
   "source": [
    "whiskey_dict['favorite'] = 'Jameson'\n",
    "print(whiskey_dict)"
   ]
  },
  {
   "cell_type": "markdown",
   "metadata": {},
   "source": [
    "**NOTE** Dictionaries are index by keys, if you try to reference a value by integer like you would for a list, Python will raise a KeyError."
   ]
  },
  {
   "cell_type": "code",
   "execution_count": 9,
   "metadata": {},
   "outputs": [
    {
     "ename": "KeyError",
     "evalue": "0",
     "output_type": "error",
     "traceback": [
      "\u001b[1;31m---------------------------------------------------------------------------\u001b[0m",
      "\u001b[1;31mKeyError\u001b[0m                                  Traceback (most recent call last)",
      "\u001b[1;32m<ipython-input-9-2ce6b3967a09>\u001b[0m in \u001b[0;36m<module>\u001b[1;34m\u001b[0m\n\u001b[1;32m----> 1\u001b[1;33m \u001b[0mwhiskey_dict\u001b[0m\u001b[1;33m[\u001b[0m\u001b[1;36m0\u001b[0m\u001b[1;33m]\u001b[0m\u001b[1;33m\u001b[0m\u001b[1;33m\u001b[0m\u001b[0m\n\u001b[0m",
      "\u001b[1;31mKeyError\u001b[0m: 0"
     ]
    }
   ],
   "source": [
    "whiskey_dict[0]"
   ]
  },
  {
   "cell_type": "markdown",
   "metadata": {},
   "source": [
    "That is unless there is a key named with an integer:"
   ]
  },
  {
   "cell_type": "code",
   "execution_count": 11,
   "metadata": {},
   "outputs": [
    {
     "data": {
      "text/plain": [
       "1"
      ]
     },
     "execution_count": 11,
     "metadata": {},
     "output_type": "execute_result"
    }
   ],
   "source": [
    "whiskey_dict[0] = 1\n",
    "whiskey_dict[0]"
   ]
  },
  {
   "cell_type": "markdown",
   "metadata": {},
   "source": [
    "## Common methods to update dictionary items"
   ]
  },
  {
   "cell_type": "markdown",
   "metadata": {},
   "source": [
    "### .get()"
   ]
  },
  {
   "cell_type": "markdown",
   "metadata": {},
   "source": [
    "The .get() method accepts a key name and returns a value."
   ]
  },
  {
   "cell_type": "code",
   "execution_count": 12,
   "metadata": {},
   "outputs": [
    {
     "data": {
      "text/plain": [
       "'Joshah'"
      ]
     },
     "execution_count": 12,
     "metadata": {},
     "output_type": "execute_result"
    }
   ],
   "source": [
    "whiskey_dict.get('name')"
   ]
  },
  {
   "cell_type": "markdown",
   "metadata": {},
   "source": [
    "When using bracket-notation, if the key does not exist, python raises a KeyError"
   ]
  },
  {
   "cell_type": "code",
   "execution_count": 13,
   "metadata": {
    "scrolled": true
   },
   "outputs": [
    {
     "ename": "KeyError",
     "evalue": "'unk'",
     "output_type": "error",
     "traceback": [
      "\u001b[1;31m---------------------------------------------------------------------------\u001b[0m",
      "\u001b[1;31mKeyError\u001b[0m                                  Traceback (most recent call last)",
      "\u001b[1;32m<ipython-input-13-ec365529f687>\u001b[0m in \u001b[0;36m<module>\u001b[1;34m\u001b[0m\n\u001b[1;32m----> 1\u001b[1;33m \u001b[0mwhiskey_dict\u001b[0m\u001b[1;33m[\u001b[0m\u001b[1;34m'unk'\u001b[0m\u001b[1;33m]\u001b[0m\u001b[1;33m\u001b[0m\u001b[1;33m\u001b[0m\u001b[0m\n\u001b[0m",
      "\u001b[1;31mKeyError\u001b[0m: 'unk'"
     ]
    }
   ],
   "source": [
    "whiskey_dict['unk']"
   ]
  },
  {
   "cell_type": "markdown",
   "metadata": {},
   "source": [
    "In the event that a key does not exist, the .get() method returns a None"
   ]
  },
  {
   "cell_type": "code",
   "execution_count": 14,
   "metadata": {},
   "outputs": [
    {
     "name": "stdout",
     "output_type": "stream",
     "text": [
      "None\n"
     ]
    }
   ],
   "source": [
    "print(whiskey_dict.get('unk'))"
   ]
  },
  {
   "cell_type": "markdown",
   "metadata": {},
   "source": [
    "### .setdefault()"
   ]
  },
  {
   "cell_type": "markdown",
   "metadata": {},
   "source": [
    "The setdefault method accepts two arguments: key-name and default value.<br>\n",
    "If the key exists, then it returns the value."
   ]
  },
  {
   "cell_type": "code",
   "execution_count": 15,
   "metadata": {
    "scrolled": true
   },
   "outputs": [
    {
     "data": {
      "text/plain": [
       "'Joshah'"
      ]
     },
     "execution_count": 15,
     "metadata": {},
     "output_type": "execute_result"
    }
   ],
   "source": [
    "whiskey_dict.setdefault('name', 'John')"
   ]
  },
  {
   "cell_type": "markdown",
   "metadata": {},
   "source": [
    "If the key does not exist, it returns the default **and** sets the key-value in the dictionary"
   ]
  },
  {
   "cell_type": "code",
   "execution_count": 16,
   "metadata": {
    "scrolled": true
   },
   "outputs": [
    {
     "data": {
      "text/plain": [
       "'John'"
      ]
     },
     "execution_count": 16,
     "metadata": {},
     "output_type": "execute_result"
    }
   ],
   "source": [
    "whiskey_dict.setdefault('last_name', 'John')"
   ]
  },
  {
   "cell_type": "code",
   "execution_count": 17,
   "metadata": {},
   "outputs": [
    {
     "data": {
      "text/plain": [
       "{'name': 'Joshah', 'favorite': 'Jameson', 0: 1, 'last_name': 'John'}"
      ]
     },
     "execution_count": 17,
     "metadata": {},
     "output_type": "execute_result"
    }
   ],
   "source": [
    "whiskey_dict"
   ]
  },
  {
   "cell_type": "markdown",
   "metadata": {},
   "source": [
    "### .update()"
   ]
  },
  {
   "cell_type": "markdown",
   "metadata": {},
   "source": [
    "The .update() method accepts a dictionary argument and sets the key-values in the target dictionary"
   ]
  },
  {
   "cell_type": "code",
   "execution_count": 18,
   "metadata": {},
   "outputs": [
    {
     "data": {
      "text/plain": [
       "{'name': 'Jenny', 'favorite': 'Jameson', 0: 1, 'last_name': 'John'}"
      ]
     },
     "execution_count": 18,
     "metadata": {},
     "output_type": "execute_result"
    }
   ],
   "source": [
    "whiskey_dict.update({'name': 'Jenny'})\n",
    "whiskey_dict"
   ]
  },
  {
   "cell_type": "markdown",
   "metadata": {},
   "source": [
    "The .update() method arguments can also be formatted as keyword-pairs"
   ]
  },
  {
   "cell_type": "code",
   "execution_count": 19,
   "metadata": {},
   "outputs": [
    {
     "data": {
      "text/plain": [
       "{'name': 'John', 'favorite': 'Jameson', 0: 1, 'last_name': 'John'}"
      ]
     },
     "execution_count": 19,
     "metadata": {},
     "output_type": "execute_result"
    }
   ],
   "source": [
    "whiskey_dict.update(name='John')\n",
    "whiskey_dict"
   ]
  },
  {
   "cell_type": "markdown",
   "metadata": {},
   "source": [
    "The .update() method is very useful when updating multiple keys/values.<br>\n",
    "It can accept a dictionary of multiple items, and they will all be updated in the target dictionary"
   ]
  },
  {
   "cell_type": "code",
   "execution_count": 20,
   "metadata": {
    "scrolled": true
   },
   "outputs": [
    {
     "data": {
      "text/plain": [
       "{'name': 'Audrey',\n",
       " 'favorite': [\"Gentleman's Jack\", 'Johnnie Walker Green Label'],\n",
       " 0: 1,\n",
       " 'last_name': 'John',\n",
       " 'age': 45,\n",
       " 'cool': True}"
      ]
     },
     "execution_count": 20,
     "metadata": {},
     "output_type": "execute_result"
    }
   ],
   "source": [
    "whis_2 = {\n",
    "  \"name\" : \"Audrey\",\n",
    "  \"age\" : 45,\n",
    "  \"favorite\" : ['Gentleman\\'s Jack', 'Johnnie Walker Green Label'],\n",
    "  \"cool\" : True,   # <---- Note that this last comma is optional\n",
    "  }\n",
    "whiskey_dict.update(whis_2)\n",
    "whiskey_dict"
   ]
  },
  {
   "cell_type": "markdown",
   "metadata": {},
   "source": [
    "## Common methods to retrieve dictionary items"
   ]
  },
  {
   "cell_type": "markdown",
   "metadata": {},
   "source": [
    "### .keys()\n",
    "The .keys() method returns a collection of the keys in a dictionary"
   ]
  },
  {
   "cell_type": "code",
   "execution_count": 21,
   "metadata": {},
   "outputs": [
    {
     "data": {
      "text/plain": [
       "dict_keys(['name', 'favorite', 0, 'last_name', 'age', 'cool'])"
      ]
     },
     "execution_count": 21,
     "metadata": {},
     "output_type": "execute_result"
    }
   ],
   "source": [
    "whiskey_dict.keys()"
   ]
  },
  {
   "cell_type": "markdown",
   "metadata": {},
   "source": [
    "### .values()\n",
    "The .values() method returns a collection of the values in a dictionary"
   ]
  },
  {
   "cell_type": "code",
   "execution_count": 22,
   "metadata": {},
   "outputs": [
    {
     "data": {
      "text/plain": [
       "dict_values(['Audrey', [\"Gentleman's Jack\", 'Johnnie Walker Green Label'], 1, 'John', 45, True])"
      ]
     },
     "execution_count": 22,
     "metadata": {},
     "output_type": "execute_result"
    }
   ],
   "source": [
    "whiskey_dict.values()"
   ]
  },
  {
   "cell_type": "markdown",
   "metadata": {},
   "source": [
    "### .items()\n",
    "The .items() method returns a collection key-value pairs as tuples"
   ]
  },
  {
   "cell_type": "code",
   "execution_count": 23,
   "metadata": {
    "scrolled": true
   },
   "outputs": [
    {
     "data": {
      "text/plain": [
       "dict_items([('name', 'Audrey'), ('favorite', [\"Gentleman's Jack\", 'Johnnie Walker Green Label']), (0, 1), ('last_name', 'John'), ('age', 45), ('cool', True)])"
      ]
     },
     "execution_count": 23,
     "metadata": {},
     "output_type": "execute_result"
    }
   ],
   "source": [
    "whiskey_dict.items()"
   ]
  },
  {
   "cell_type": "markdown",
   "metadata": {},
   "source": [
    ".items() is a useful methods work working through a dicationary and evaluating each set of data"
   ]
  },
  {
   "cell_type": "code",
   "execution_count": 24,
   "metadata": {},
   "outputs": [
    {
     "name": "stdout",
     "output_type": "stream",
     "text": [
      "Key is name, and value is Audrey\n",
      "Key is favorite, and value is [\"Gentleman's Jack\", 'Johnnie Walker Green Label']\n",
      "Key is 0, and value is 1\n",
      "Key is last_name, and value is John\n",
      "Key is age, and value is 45\n",
      "Key is cool, and value is True\n"
     ]
    }
   ],
   "source": [
    "for k, v in whiskey_dict.items():\n",
    "    print(f'Key is {k}, and value is {v}')"
   ]
  },
  {
   "cell_type": "markdown",
   "metadata": {},
   "source": [
    "## Common methods to remove dictionary items"
   ]
  },
  {
   "cell_type": "markdown",
   "metadata": {},
   "source": [
    "### .pop()\n",
    "The .pop() method works similar to the .pop() method on lists.<br>\n",
    "It accepts a key name, removes **and** returns the value"
   ]
  },
  {
   "cell_type": "code",
   "execution_count": 25,
   "metadata": {},
   "outputs": [
    {
     "data": {
      "text/plain": [
       "{'favorite': [\"Gentleman's Jack\", 'Johnnie Walker Green Label'],\n",
       " 0: 1,\n",
       " 'last_name': 'John',\n",
       " 'age': 45,\n",
       " 'cool': True}"
      ]
     },
     "execution_count": 25,
     "metadata": {},
     "output_type": "execute_result"
    }
   ],
   "source": [
    "whiskey_dict.pop('name')\n",
    "whiskey_dict"
   ]
  },
  {
   "cell_type": "markdown",
   "metadata": {},
   "source": [
    "### .clear()\n",
    "To clear all items from a dictionary, use the .clear() method"
   ]
  },
  {
   "cell_type": "code",
   "execution_count": 26,
   "metadata": {
    "scrolled": false
   },
   "outputs": [
    {
     "data": {
      "text/plain": [
       "{}"
      ]
     },
     "execution_count": 26,
     "metadata": {},
     "output_type": "execute_result"
    }
   ],
   "source": [
    "whiskey_dict.clear()\n",
    "whiskey_dict"
   ]
  },
  {
   "cell_type": "markdown",
   "metadata": {},
   "source": [
    "## Advantages of Dictionaries"
   ]
  },
  {
   "cell_type": "markdown",
   "metadata": {},
   "source": [
    "Suppose you made a collection of book titles and authors.<br>"
   ]
  },
  {
   "cell_type": "markdown",
   "metadata": {},
   "source": [
    "To implement this as a list, you may choose to do a list of tuples holding the data"
   ]
  },
  {
   "cell_type": "code",
   "execution_count": 27,
   "metadata": {},
   "outputs": [],
   "source": [
    "book_collection = [\n",
    "    (\"Bourbon Curious\", \"Fred Minack\"),\n",
    "    (\"Moby Dick\", \"Herman Melville\"),\n",
    "    (\"This Old Book\",)\n",
    "]"
   ]
  },
  {
   "cell_type": "markdown",
   "metadata": {},
   "source": [
    "To find the author of Moby Dick you have to perform some iteration on the list:"
   ]
  },
  {
   "cell_type": "code",
   "execution_count": 28,
   "metadata": {
    "scrolled": true
   },
   "outputs": [
    {
     "name": "stdout",
     "output_type": "stream",
     "text": [
      "Herman Melville\n"
     ]
    }
   ],
   "source": [
    "for book in book_collection:\n",
    "    if book[0] == 'Moby Dick':\n",
    "        print(book[1])"
   ]
  },
  {
   "cell_type": "markdown",
   "metadata": {},
   "source": [
    "If you saved the same data as a dictionary, the you may choose to use the book title as the key name, and the book data as a nested dictionary."
   ]
  },
  {
   "cell_type": "code",
   "execution_count": 29,
   "metadata": {},
   "outputs": [],
   "source": [
    "book_collection = {\n",
    "    \"Bourbon Curious\": {\n",
    "        \"title\": \"Bourbon Curious\",\n",
    "        \"author\": \"Fred Minack\"\n",
    "    },\n",
    "    \"Moby Dick\": {\n",
    "        \"title\": \"Moby Dick\",\n",
    "        \"author\": \"Herman Melville\"\n",
    "    },\n",
    "    \"This Old Book\": {\n",
    "        \"title\": \"This Old Book\"\n",
    "    }\n",
    "}"
   ]
  },
  {
   "cell_type": "markdown",
   "metadata": {},
   "source": [
    "Use bracket-notation to find the author of Moby Dick.<br>\n",
    "Isn't that easier?"
   ]
  },
  {
   "cell_type": "code",
   "execution_count": 30,
   "metadata": {},
   "outputs": [
    {
     "name": "stdout",
     "output_type": "stream",
     "text": [
      "Herman Melville\n"
     ]
    }
   ],
   "source": [
    "print(book_collection['Moby Dick']['author'])"
   ]
  },
  {
   "cell_type": "markdown",
   "metadata": {},
   "source": [
    "## JSON\n",
    "JavaScript Object Notation"
   ]
  },
  {
   "cell_type": "markdown",
   "metadata": {},
   "source": [
    "Dictionaries are python objects - you can't port this to another language or save to file well.<br>\n",
    "JSON is a text implementation of key-value pairs<br>\n",
    "Check out this lesson about JSON on W3Schools: https://www.w3schools.com/whatis/whatis_json.asp"
   ]
  },
  {
   "cell_type": "markdown",
   "metadata": {},
   "source": [
    "JSON is so similar to dictionaries that you can use it directly in Python and it complies with dictionary syntax:"
   ]
  },
  {
   "cell_type": "code",
   "execution_count": 31,
   "metadata": {},
   "outputs": [],
   "source": [
    "my_dict = {\n",
    "\"employees\":[\n",
    "    {\"firstName\":\"John\", \"lastName\":\"Doe\"},\n",
    "    {\"firstName\":\"Anna\", \"lastName\":\"Smith\"},\n",
    "    {\"firstName\":\"Peter\", \"lastName\":\"Jones\"}\n",
    "]\n",
    "}"
   ]
  },
  {
   "cell_type": "markdown",
   "metadata": {},
   "source": [
    "There is a built-in python module named *json* that we can use to:\n",
    "- Turn a JSON string into a dictionary\n",
    "- Create JSON text from a dictionary"
   ]
  },
  {
   "cell_type": "markdown",
   "metadata": {},
   "source": [
    "Import the json module:"
   ]
  },
  {
   "cell_type": "code",
   "execution_count": 32,
   "metadata": {},
   "outputs": [],
   "source": [
    "import json"
   ]
  },
  {
   "cell_type": "markdown",
   "metadata": {},
   "source": [
    "Use the .dumps() method to dump a python dicationary to a JSON string"
   ]
  },
  {
   "cell_type": "code",
   "execution_count": 33,
   "metadata": {},
   "outputs": [],
   "source": [
    "book_json = json.dumps(book_collection)"
   ]
  },
  {
   "cell_type": "markdown",
   "metadata": {},
   "source": [
    "Print the JSON string, and use the type() function to ensure it is string - *No longer a dictionary object*"
   ]
  },
  {
   "cell_type": "code",
   "execution_count": 34,
   "metadata": {},
   "outputs": [
    {
     "name": "stdout",
     "output_type": "stream",
     "text": [
      "{\"Bourbon Curious\": {\"title\": \"Bourbon Curious\", \"author\": \"Fred Minack\"}, \"Moby Dick\": {\"title\": \"Moby Dick\", \"author\": \"Herman Melville\"}, \"This Old Book\": {\"title\": \"This Old Book\"}}\n"
     ]
    }
   ],
   "source": [
    "print(book_json)"
   ]
  },
  {
   "cell_type": "code",
   "execution_count": 35,
   "metadata": {},
   "outputs": [
    {
     "data": {
      "text/plain": [
       "str"
      ]
     },
     "execution_count": 35,
     "metadata": {},
     "output_type": "execute_result"
    }
   ],
   "source": [
    "type(book_json)"
   ]
  },
  {
   "cell_type": "markdown",
   "metadata": {},
   "source": [
    "Now, go the opposite way - suppose we got some JSON text from a server"
   ]
  },
  {
   "cell_type": "code",
   "execution_count": 36,
   "metadata": {},
   "outputs": [],
   "source": [
    "data_from_server = '{\"name\": \"Mr. McMahn\",     \"age\": 100,       \"favorite\": \"Booker\\'s\"}'"
   ]
  },
  {
   "cell_type": "code",
   "execution_count": 37,
   "metadata": {
    "scrolled": true
   },
   "outputs": [
    {
     "data": {
      "text/plain": [
       "str"
      ]
     },
     "execution_count": 37,
     "metadata": {},
     "output_type": "execute_result"
    }
   ],
   "source": [
    "type(data_from_server)"
   ]
  },
  {
   "cell_type": "markdown",
   "metadata": {},
   "source": [
    "Use the .loads() method to convert the json string to a python dictionary"
   ]
  },
  {
   "cell_type": "code",
   "execution_count": 38,
   "metadata": {},
   "outputs": [],
   "source": [
    "data_dict = json.loads(data_from_server)"
   ]
  },
  {
   "cell_type": "code",
   "execution_count": 39,
   "metadata": {
    "scrolled": true
   },
   "outputs": [
    {
     "data": {
      "text/plain": [
       "dict"
      ]
     },
     "execution_count": 39,
     "metadata": {},
     "output_type": "execute_result"
    }
   ],
   "source": [
    "type(data_dict)"
   ]
  },
  {
   "cell_type": "markdown",
   "metadata": {},
   "source": [
    "Once JSON has been loaded to a dicationary, the data can easily be manipulated with bracket-notation"
   ]
  },
  {
   "cell_type": "code",
   "execution_count": 40,
   "metadata": {},
   "outputs": [
    {
     "data": {
      "text/plain": [
       "100"
      ]
     },
     "execution_count": 40,
     "metadata": {},
     "output_type": "execute_result"
    }
   ],
   "source": [
    "data_dict['age']"
   ]
  },
  {
   "cell_type": "markdown",
   "metadata": {},
   "source": [
    "## Final Exercise\n",
    "*Whiskey Review App - continued...*<br><br>\n",
    "Refactor the whiskey review app so that instead of storing the data as a pipe-delimited file, it is saved as JSON, and the data is manipulated in-app as a dictionary<br><br>\n",
    "\n",
    "Requirements:\n",
    "- On app start, read the data file and convert to a dicationary object\n",
    "- Handle the data with bracket-notation\n",
    "- When the user writes a review, save app data as JSON text"
   ]
  },
  {
   "cell_type": "markdown",
   "metadata": {},
   "source": [
    "*The following code is contained in review_app.py*"
   ]
  },
  {
   "cell_type": "markdown",
   "metadata": {},
   "source": [
    "**NOTE**: Initialize a json text file by clearing the contents of data.dat and replace it with empty curly braces: \"{}\""
   ]
  },
  {
   "cell_type": "code",
   "execution_count": 41,
   "metadata": {},
   "outputs": [
    {
     "name": "stdout",
     "output_type": "stream",
     "text": [
      "Write a review (W), Read Reviews (R), or Exit (X): w\n",
      "Enter the whiskey name: Makers\n",
      "Enter the Rating (1 - 10): 7\n",
      "Enter tasting notes: Peanuts\n",
      "\n",
      "Review Saved\n",
      "\n",
      "Write a review (W), Read Reviews (R), or Exit (X): r\n",
      "Whiskey: Makers\n",
      "Rating: 7\n",
      "Notes: Peanuts\n",
      "---\n",
      "\n",
      "\n",
      "Write a review (W), Read Reviews (R), or Exit (X): x\n"
     ]
    }
   ],
   "source": [
    "#!/usr/bin/env python3\n",
    "\n",
    "import json\n",
    "\n",
    "running = True\n",
    "data_file = 'data.dat'\n",
    "with open(data_file, 'r') as f:\n",
    "    review_dict = json.loads(f.read())\n",
    "\n",
    "while running:\n",
    "    user_option = input('Write a review (W), Read Reviews (R), or Exit (X): ')\n",
    "    if user_option.upper() == 'W':\n",
    "        whiskey = input('Enter the whiskey name: ')\n",
    "        rating = input('Enter the Rating (1 - 10): ')\n",
    "        notes = input('Enter tasting notes: ')\n",
    "        this_item = {\n",
    "            \"rating\": rating,\n",
    "            \"notes\": notes\n",
    "        }\n",
    "        review_dict[whiskey] = this_item\n",
    "        with open(data_file, 'w') as f:\n",
    "            f.write(json.dumps(review_dict))\n",
    "        print('\\nReview Saved\\n')\n",
    "    elif user_option.upper() == 'R':\n",
    "        for k, v in review_dict.items():\n",
    "                print(f\"Whiskey: {k}\\nRating: {v['rating']}\\nNotes: {v['notes']}\\n---\")\n",
    "        print('\\n')\n",
    "    elif user_option.upper() == 'X':\n",
    "        running = False\n",
    "    else:\n",
    "        print('Cannot process the input')\n"
   ]
  }
 ],
 "metadata": {
  "kernelspec": {
   "display_name": "Python 3",
   "language": "python",
   "name": "python3"
  },
  "language_info": {
   "codemirror_mode": {
    "name": "ipython",
    "version": 3
   },
   "file_extension": ".py",
   "mimetype": "text/x-python",
   "name": "python",
   "nbconvert_exporter": "python",
   "pygments_lexer": "ipython3",
   "version": "3.7.1"
  }
 },
 "nbformat": 4,
 "nbformat_minor": 2
}
