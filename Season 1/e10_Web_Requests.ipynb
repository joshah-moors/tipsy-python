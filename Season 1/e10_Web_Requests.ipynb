{
 "cells": [
  {
   "cell_type": "markdown",
   "metadata": {},
   "source": [
    "# Tipsy Python\n",
    "*Season 1 | Episode 10*<br>\n",
    "Video: https://youtu.be/nP07LfPrPyE\n",
    "\n",
    "## HTTP & Web Requests"
   ]
  },
  {
   "cell_type": "markdown",
   "metadata": {},
   "source": [
    "**HTTP** (HyperText Transfer Protocol) is the basis of the internet<br>\n",
    "A *protocol* is a set of instructions two machines can use to communicate with eachother.<br><br>\n",
    "HTTP is a *request/response* protocol.<br>\n",
    "One machine initiates a request that gets routed to a server.<br>\n",
    "The server takes some action and sends a response."
   ]
  },
  {
   "cell_type": "markdown",
   "metadata": {},
   "source": [
    "Everything you need to work initiate HTTP requests with Python is available in the urllib standard library module."
   ]
  },
  {
   "cell_type": "code",
   "execution_count": 1,
   "metadata": {},
   "outputs": [],
   "source": [
    "import urllib"
   ]
  },
  {
   "cell_type": "markdown",
   "metadata": {},
   "source": [
    "### Requests (module)\n",
    "There is a third-party module called *requests* that is very popular - many developers find it more intuitive to work with and opt to use it when working with HTTP requests.<br><br>\n",
    "Install requests with the following command (outside of the python shell):<br>\n",
    "py -m pip install requests"
   ]
  },
  {
   "cell_type": "markdown",
   "metadata": {},
   "source": [
    "*After installing*, import requests in your code:"
   ]
  },
  {
   "cell_type": "code",
   "execution_count": 2,
   "metadata": {},
   "outputs": [],
   "source": [
    "import requests"
   ]
  },
  {
   "cell_type": "markdown",
   "metadata": {},
   "source": [
    "Request google.com:<br>\n",
    "**NOTE**: We are using the .get() method - GET is the same HTTP method your browser uses to retrieve web pages."
   ]
  },
  {
   "cell_type": "code",
   "execution_count": 3,
   "metadata": {},
   "outputs": [],
   "source": [
    "r = requests.get('https://google.com')"
   ]
  },
  {
   "cell_type": "markdown",
   "metadata": {},
   "source": [
    "This piece of code creates and sends a request to the web address passed as a parameter.<br>\n",
    "It outputs the response.<br><br>\n",
    "View the response content:"
   ]
  },
  {
   "cell_type": "code",
   "execution_count": 4,
   "metadata": {},
   "outputs": [
    {
     "name": "stdout",
     "output_type": "stream",
     "text": [
      "b'<!doctype html><html itemscope=\"\" itemtype=\"http://schema.org/WebPage\" lang=\"en\"><head><meta content=\"Search the world\\'s information, including webpages, images, videos and more. Google has many special features to help you find exactly what you\\'re looking for.\" name=\"description\"><meta content=\"noodp\" name=\"robots\"><meta content=\"text/html; charset=UTF-8\" http-equiv=\"Content-Type\"><meta content=\"/logos/doodles/2020/stay-and-play-at-home-with-popular-past-google-doodles-fischinger-2017-6753651837108768-law.gif\" itemprop=\"image\"><meta content=\"Stay and Play at Home with Popular Past Google Doodles: Fischinger (2017)\" property=\"twitter:title\"><meta content=\"Stay and Play at Home with Popular Past Google Doodles! #GoogleDoodle\" property=\"twitter:description\"><meta content=\"Stay and Play at Home with Popular Past Google Doodles! #GoogleDoodle\" property=\"og:description\"><meta content=\"summary_large_image\" property=\"twitter:card\"><meta content=\"@GoogleDoodles\" property=\"twitter:site\"><meta content=\"https://www.google.com/logos/doodles/2020/stay-and-play-at-home-with-popular-past-google-doodles-fischinger-2017-6753651837108768-2xa.gif\" property=\"twitter:image\"><meta content=\"https://www.google.com/logos/doodles/2020/stay-and-play-at-home-with-popular-past-google-doodles-fischinger-2017-6753651837108768-2xa.gif\" property=\"og:image\"><meta content=\"1000\" property=\"og:image:width\"><meta content=\"400\" property=\"og:image:height\"><meta content=\"https://www.google.com/logos/doodles/2020/stay-and-play-at-home-with-popular-past-google-doodles-fischinger-2017-6753651837108768-2xa.gif\" property=\"og:url\"><meta content=\"video.other\" property=\"og:type\"><title>Google</title><script nonce=\"q77Sjof1ChxsJJt1nYSQSA==\">(function(){window.google={kEI:\\'ZPipXo6ODdC0swX8m5yoCw\\',kEXPI:\\'0,18168,183955,3,4,1151617,5662,731,223,5104,207,3204,10,289,762,175,364,1435,4,60,576,127,114,383,246,5,860,100,394,196,358,106,153,120,104,329,328,59,39,1134,392,359,217,60,1123812,1197792,357,78,329040,1294,12383,4855,32692,15247,867,28684,364,8824,8384,1325,3533,1362,9291,3020,4747,2648,470,7915,1808,4020,978,4788,1,3142,5297,2054,920,2090,2975,6430,1142,6290,3876,3219,4518,2777,520,399,262,2015,8,2796,1593,1165,114,2212,530,149,562,541,841,516,1137,278,51,8,49,157,4100,312,1135,1,3,2063,606,1839,184,1777,143,377,1946,749,282,1,1198,93,328,1286,14,2927,2247,473,1339,29,719,1039,3227,773,2072,7,4808,1260,8078,2663,641,1408,638,1,403,2458,1226,1462,3934,1275,108,1444,266,1697,908,2,941,846,126,1642,2132,265,2894,2076,449,226,995,830,1,839,1086,917,432,3,12,334,200,1000,865,1,371,1640,1906,706,149,189,3313,502,1,240,1745,28,130,1,70,1158,68,797,2455,143,2387,97,651,4,1336,192,17,264,2,278,79,19,282,353,1010,275,184,567,210,271,84,514,276,395,2,8,12,29,193,553,472,601,172,796,4,1123,185,28,118,174,329,40,242,56,117,17,206,577,895,60,234,22,126,40,17,6,68,205,585,94,23,812,165,3,40,834,6,424,36,212,138,362,171,208,2601,359,228,436,256,780,312,502,25,5820356,1874,1436,1802584,6996022,549,333,444,1,2,80,1,900,896,1,8,1,2,2551,1,748,141,59,736,563,1,4265,1,1,1,1,137,1,1193,1401,3,123,271,26,77,2,5,1,2,2,1,1,1,2,2,2,2,1,2,12,12,10,1,1,9,4,4,1,1,1,3,1,2,2,2,1,4,30,1,2,2,1,1,1,1,1,4,28,16,4,20742294,3220019\\',kBL:\\'coVx\\'};google.sn=\\'webhp\\';google.kHL=\\'en\\';})();(function(){google.lc=[];google.li=0;google.getEI=function(a){for(var c;a&&(!a.getAttribute||!(c=a.getAttribute(\"eid\")));)a=a.parentNode;return c||google.kEI};google.getLEI=function(a){for(var c=null;a&&(!a.getAttribute||!(c=a.getAttribute(\"leid\")));)a=a.parentNode;return c};google.ml=function(){return null};google.time=function(){return Date.now()};google.log=function(a,c,b,d,g){if(b=google.logUrl(a,c,b,d,g)){a=new Image;var e=google.lc,f=google.li;e[f]=a;a.onerror=a.onload=a.onabort=function(){delete e[f]};google.vel&&google.vel.lu&&google.vel.lu(b);a.src=b;google.li=f+1}};google.logUrl=function(a,c,b,d,g){var e=\"\",f=google.ls||\"\";b||-1!=c.search(\"&ei=\")||(e=\"&ei=\"+google.getEI(d),-1==c.search(\"&lei=\")&&(d=google.getLEI(d))&&(e+=\"&lei=\"+d));d=\"\";!b&&google.cshid&&-1==c.search(\"&cshid=\")&&\"slh\"!=a&&(d=\"&cshid=\"+google.cshid);b=b||\"/\"+(g||\"gen_204\")+\"?atyp=i&ct=\"+a+\"&cad=\"+c+e+f+\"&zx=\"+google.time()+d;/^http:/i.test(b)&&\"https:\"==window.location.protocol&&(google.ml(Error(\"a\"),!1,{src:b,glmm:1}),b=\"\");return b};}).call(this);(function(){google.y={};google.x=function(a,b){if(a)var c=a.id;else{do c=Math.random();while(google.y[c])}google.y[c]=[a,b];return!1};google.lm=[];google.plm=function(a){google.lm.push.apply(google.lm,a)};google.lq=[];google.load=function(a,b,c){google.lq.push([[a],b,c])};google.loadAll=function(a,b){google.lq.push([a,b])};}).call(this);google.f={};(function(){\\ndocument.documentElement.addEventListener(\"submit\",function(b){var a;if(a=b.target){var c=a.getAttribute(\"data-submitfalse\");a=\"1\"==c||\"q\"==c&&!a.elements.q.value?!0:!1}else a=!1;a&&(b.preventDefault(),b.stopPropagation())},!0);document.documentElement.addEventListener(\"click\",function(b){var a;a:{for(a=b.target;a&&a!=document.documentElement;a=a.parentElement)if(\"A\"==a.tagName){a=\"1\"==a.getAttribute(\"data-nohref\");break a}a=!1}a&&b.preventDefault()},!0);}).call(this);\\nvar a=window.location,b=a.href.indexOf(\"#\");if(0<=b){var c=a.href.substring(b+1);/(^|&)q=/.test(c)&&-1==c.indexOf(\"#\")&&a.replace(\"/search?\"+c.replace(/(^|&)fp=[^&]*/g,\"\")+\"&cad=h\")};</script><style>#gbar,#guser{font-size:13px;padding-top:1px !important;}#gbar{height:22px}#guser{padding-bottom:7px !important;text-align:right}.gbh,.gbd{border-top:1px solid #c9d7f1;font-size:1px}.gbh{height:0;position:absolute;top:24px;width:100%}@media all{.gb1{height:22px;margin-right:.5em;vertical-align:top}#gbar{float:left}}a.gb1,a.gb4{text-decoration:underline !important}a.gb1,a.gb4{color:#00c !important}.gbi .gb4{color:#dd8e27 !important}.gbf .gb4{color:#900 !important}\\n</style><style>body,td,a,p,.h{font-family:arial,sans-serif}body{margin:0;overflow-y:scroll}#gog{padding:3px 8px 0}td{line-height:.8em}.gac_m td{line-height:17px}form{margin-bottom:20px}.h{color:#36c}.q{color:#00c}.ts td{padding:0}.ts{border-collapse:collapse}em{font-weight:bold;font-style:normal}.lst{height:25px;width:496px}.gsfi,.lst{font:18px arial,sans-serif}.gsfs{font:17px arial,sans-serif}.ds{display:inline-box;display:inline-block;margin:3px 0 4px;margin-left:4px}input{font-family:inherit}body{background:#fff;color:#000}a{color:#11c;text-decoration:none}a:hover,a:active{text-decoration:underline}.fl a{color:#36c}a:visited{color:#551a8b}.sblc{padding-top:5px}.sblc a{display:block;margin:2px 0;margin-left:13px;font-size:11px}.lsbb{background:#eee;border:solid 1px;border-color:#ccc #999 #999 #ccc;height:30px}.lsbb{display:block}.ftl,#fll a{display:inline-block;margin:0 12px}.lsb{background:url(/images/nav_logo229.png) 0 -261px repeat-x;border:none;color:#000;cursor:pointer;height:30px;margin:0;outline:0;font:15px arial,sans-serif;vertical-align:top}.lsb:active{background:#ccc}.lst:focus{outline:none}</style><script nonce=\"q77Sjof1ChxsJJt1nYSQSA==\"></script></head><body bgcolor=\"#fff\"><script nonce=\"q77Sjof1ChxsJJt1nYSQSA==\">(function(){var src=\\'/images/nav_logo229.png\\';var iesg=false;document.body.onload = function(){window.n && window.n();if (document.images){new Image().src=src;}\\nif (!iesg){document.f&&document.f.q.focus();document.gbqf&&document.gbqf.q.focus();}\\n}\\n})();</script><div id=\"mngb\"> <div id=gbar><nobr><b class=gb1>Search</b> <a class=gb1 href=\"https://www.google.com/imghp?hl=en&tab=wi\">Images</a> <a class=gb1 href=\"https://maps.google.com/maps?hl=en&tab=wl\">Maps</a> <a class=gb1 href=\"https://play.google.com/?hl=en&tab=w8\">Play</a> <a class=gb1 href=\"https://www.youtube.com/?gl=US&tab=w1\">YouTube</a> <a class=gb1 href=\"https://news.google.com/nwshp?hl=en&tab=wn\">News</a> <a class=gb1 href=\"https://mail.google.com/mail/?tab=wm\">Gmail</a> <a class=gb1 href=\"https://drive.google.com/?tab=wo\">Drive</a> <a class=gb1 style=\"text-decoration:none\" href=\"https://www.google.com/intl/en/about/products?tab=wh\"><u>More</u> &raquo;</a></nobr></div><div id=guser width=100%><nobr><span id=gbn class=gbi></span><span id=gbf class=gbf></span><span id=gbe></span><a href=\"http://www.google.com/history/optout?hl=en\" class=gb4>Web History</a> | <a  href=\"/preferences?hl=en\" class=gb4>Settings</a> | <a target=_top id=gb_70 href=\"https://accounts.google.com/ServiceLogin?hl=en&passive=true&continue=https://www.google.com/\" class=gb4>Sign in</a></nobr></div><div class=gbh style=left:0></div><div class=gbh style=right:0></div> </div><center><br clear=\"all\" id=\"lgpd\"><div id=\"lga\"><a href=\"/search?ie=UTF-8&amp;q=popular+google+doodle+games&amp;oi=ddle&amp;ct=153498595&amp;hl=en&amp;sa=X&amp;ved=0ahUKEwiO0JzT0I7pAhVQ2qwKHfwNB7UQPQgD\"><img alt=\"Stay and Play at Home with Popular Past Google Doodles: Fischinger (2017)\" border=\"0\" height=\"220\" src=\"/logos/doodles/2020/stay-and-play-at-home-with-popular-past-google-doodles-fischinger-2017-6753651837108768-law.gif\" title=\"Stay and Play at Home with Popular Past Google Doodles: Fischinger (2017)\" width=\"550\" id=\"hplogo\"><br></a><br></div><form action=\"/search\" name=\"f\"><table cellpadding=\"0\" cellspacing=\"0\"><tr valign=\"top\"><td width=\"25%\">&nbsp;</td><td align=\"center\" nowrap=\"\"><input name=\"ie\" value=\"ISO-8859-1\" type=\"hidden\"><input value=\"en\" name=\"hl\" type=\"hidden\"><input name=\"source\" type=\"hidden\" value=\"hp\"><input name=\"biw\" type=\"hidden\"><input name=\"bih\" type=\"hidden\"><div class=\"ds\" style=\"height:32px;margin:4px 0\"><input class=\"lst\" style=\"margin:0;padding:5px 8px 0 6px;vertical-align:top;color:#000\" autocomplete=\"off\" value=\"\" title=\"Google Search\" maxlength=\"2048\" name=\"q\" size=\"57\"></div><br style=\"line-height:0\"><span class=\"ds\"><span class=\"lsbb\"><input class=\"lsb\" value=\"Google Search\" name=\"btnG\" type=\"submit\"></span></span><span class=\"ds\"><span class=\"lsbb\"><input class=\"lsb\" id=\"tsuid1\" value=\"I\\'m Feeling Lucky\" name=\"btnI\" type=\"submit\"><script nonce=\"q77Sjof1ChxsJJt1nYSQSA==\">(function(){var id=\\'tsuid1\\';document.getElementById(id).onclick = function(){if (this.form.q.value){this.checked = 1;if (this.form.iflsig)this.form.iflsig.disabled = false;}\\nelse top.location=\\'/doodles/\\';};})();</script><input value=\"AINFCbYAAAAAXqoGdBBDnTYFQpopi8XYV1dJyj2zT8Th\" name=\"iflsig\" type=\"hidden\"></span></span></td><td class=\"fl sblc\" align=\"left\" nowrap=\"\" width=\"25%\"><a href=\"/advanced_search?hl=en&amp;authuser=0\">Advanced search</a></td></tr></table><input id=\"gbv\" name=\"gbv\" type=\"hidden\" value=\"1\"><script nonce=\"q77Sjof1ChxsJJt1nYSQSA==\">(function(){var a,b=\"1\";if(document&&document.getElementById)if(\"undefined\"!=typeof XMLHttpRequest)b=\"2\";else if(\"undefined\"!=typeof ActiveXObject){var c,d,e=[\"MSXML2.XMLHTTP.6.0\",\"MSXML2.XMLHTTP.3.0\",\"MSXML2.XMLHTTP\",\"Microsoft.XMLHTTP\"];for(c=0;d=e[c++];)try{new ActiveXObject(d),b=\"2\"}catch(h){}}a=b;if(\"2\"==a&&-1==location.search.indexOf(\"&gbv=2\")){var f=google.gbvu,g=document.getElementById(\"gbv\");g&&(g.value=a);f&&window.setTimeout(function(){location.href=f},0)};}).call(this);</script></form><div id=\"gac_scont\"></div><div style=\"font-size:83%;min-height:3.5em\"><br><div id=\"prm\"><style>.szppmdbYutt__middle-slot-promo{font-size:small;margin-bottom:32px}.szppmdbYutt__middle-slot-promo a.ZIeIlb{display:inline-block;text-decoration:none}.szppmdbYutt__middle-slot-promo img{border:none;margin-right:5px;vertical-align:middle}</style><div class=\"szppmdbYutt__middle-slot-promo\" data-ved=\"0ahUKEwiO0JzT0I7pAhVQ2qwKHfwNB7UQnIcBCAQ\"><a class=\"NKcBbd\" href=\"https://www.google.com/url?q=https://www.youtube.com/stayhome%3Futm_source%3Dgoogle%26utm_medium%3Dhppromo%26utm_campaign%3DHelpathomeYTUS&amp;source=hpp&amp;id=19017530&amp;ct=3&amp;usg=AFQjCNE2FZizHR5ncV3c9xnzo6f1UpGKmQ&amp;sa=X&amp;ved=0ahUKEwiO0JzT0I7pAhVQ2qwKHfwNB7UQ8IcBCAU\" rel=\"nofollow\">Make the most of your time at home with tips for recipes, workouts, and more</a></div></div></div><span id=\"footer\"><div style=\"font-size:10pt\"><div style=\"margin:19px auto;text-align:center\" id=\"fll\"><a href=\"/intl/en/ads/\">Advertising\\xa0Programs</a><a href=\"/services/\">Business Solutions</a><a href=\"/intl/en/about.html\">About Google</a></div></div><p style=\"font-size:8pt;color:#767676\">&copy; 2020 - <a href=\"/intl/en/policies/privacy/\">Privacy</a> - <a href=\"/intl/en/policies/terms/\">Terms</a></p></span></center><script nonce=\"q77Sjof1ChxsJJt1nYSQSA==\">(function(){window.google.cdo={height:0,width:0};(function(){var a=window.innerWidth,b=window.innerHeight;if(!a||!b){var c=window.document,d=\"CSS1Compat\"==c.compatMode?c.documentElement:c.body;a=d.clientWidth;b=d.clientHeight}a&&b&&(a!=google.cdo.width||b!=google.cdo.height)&&google.log(\"\",\"\",\"/client_204?&atyp=i&biw=\"+a+\"&bih=\"+b+\"&ei=\"+google.kEI);}).call(this);})();(function(){var u=\\'/xjs/_/js/k\\\\x3dxjs.hp.en_US.r1Ix2j3EEQA.O/m\\\\x3dsb_he,d/am\\\\x3dAF8IbA4/d\\\\x3d1/rs\\\\x3dACT90oFsQcjEug58I2XRJQoSRc7raFRDiA\\';\\nsetTimeout(function(){var b=document;var a=\"SCRIPT\";\"application/xhtml+xml\"===b.contentType&&(a=a.toLowerCase());a=b.createElement(a);a.src=u;google.timers&&google.timers.load&&google.tick&&google.tick(\"load\",\"xjsls\");document.body.appendChild(a)},0);})();(function(){window.google.xjsu=\\'/xjs/_/js/k\\\\x3dxjs.hp.en_US.r1Ix2j3EEQA.O/m\\\\x3dsb_he,d/am\\\\x3dAF8IbA4/d\\\\x3d1/rs\\\\x3dACT90oFsQcjEug58I2XRJQoSRc7raFRDiA\\';})();function _DumpException(e){throw e;}\\nfunction _F_installCss(c){}\\n(function(){google.jl={em:[],emw:false,lls:\\'default\\',pdt:0,snet:true,uwp:true};})();(function(){var pmc=\\'{\\\\x22d\\\\x22:{},\\\\x22sb_he\\\\x22:{\\\\x22agen\\\\x22:true,\\\\x22cgen\\\\x22:true,\\\\x22client\\\\x22:\\\\x22heirloom-hp\\\\x22,\\\\x22dh\\\\x22:true,\\\\x22dhqt\\\\x22:true,\\\\x22ds\\\\x22:\\\\x22\\\\x22,\\\\x22ffql\\\\x22:\\\\x22en\\\\x22,\\\\x22fl\\\\x22:true,\\\\x22host\\\\x22:\\\\x22google.com\\\\x22,\\\\x22isbh\\\\x22:28,\\\\x22jsonp\\\\x22:true,\\\\x22msgs\\\\x22:{\\\\x22cibl\\\\x22:\\\\x22Clear Search\\\\x22,\\\\x22dym\\\\x22:\\\\x22Did you mean:\\\\x22,\\\\x22lcky\\\\x22:\\\\x22I\\\\\\\\u0026#39;m Feeling Lucky\\\\x22,\\\\x22lml\\\\x22:\\\\x22Learn more\\\\x22,\\\\x22oskt\\\\x22:\\\\x22Input tools\\\\x22,\\\\x22psrc\\\\x22:\\\\x22This search was removed from your \\\\\\\\u003Ca href\\\\x3d\\\\\\\\\\\\x22/history\\\\\\\\\\\\x22\\\\\\\\u003EWeb History\\\\\\\\u003C/a\\\\\\\\u003E\\\\x22,\\\\x22psrl\\\\x22:\\\\x22Remove\\\\x22,\\\\x22sbit\\\\x22:\\\\x22Search by image\\\\x22,\\\\x22srch\\\\x22:\\\\x22Google Search\\\\x22},\\\\x22ovr\\\\x22:{},\\\\x22pq\\\\x22:\\\\x22\\\\x22,\\\\x22refpd\\\\x22:true,\\\\x22rfs\\\\x22:[],\\\\x22sbpl\\\\x22:16,\\\\x22sbpr\\\\x22:16,\\\\x22scd\\\\x22:10,\\\\x22stok\\\\x22:\\\\x22arrQVkizwZ_W2CfA1-fCMtiLZlM\\\\x22,\\\\x22uhde\\\\x22:false}}\\';google.pmc=JSON.parse(pmc);})();</script>        </body></html>'\n"
     ]
    }
   ],
   "source": [
    "print(r.content)"
   ]
  },
  {
   "cell_type": "markdown",
   "metadata": {},
   "source": [
    "Yes, the response above is busy.<br>\n",
    "This response contains HTML/CSS/JavaScript and is meant for the browser to interpret and create the view for you.<br>\n",
    "Although it's meant for the browser, by reading this text you can identify several familar components that are on the Google homepage."
   ]
  },
  {
   "cell_type": "markdown",
   "metadata": {},
   "source": [
    "One strategy to source web data is called *scraping*.<br>\n",
    "Scraping is requesting a web-page, and parsing the web page to collect data. While scraping is effective in some cases, this method is generally undesirable."
   ]
  },
  {
   "cell_type": "markdown",
   "metadata": {},
   "source": [
    "There are some applications that accept web requests, and return data intended for programmatic consumption. These are called **web APIs** (Application Programming Interface)."
   ]
  },
  {
   "cell_type": "markdown",
   "metadata": {},
   "source": [
    "Navigate to: https://github.com/public-apis/public-apis<br>\n",
    "View the documentation for a list of free open APIs that do not require a login.<br><br>\n",
    "An interesting option under Currency Exchange is https://exchangeratesapi.io/ - navigate there and view the documentation on the home page."
   ]
  },
  {
   "cell_type": "markdown",
   "metadata": {},
   "source": [
    "Per the documentation create a GET request to a resource that returns conversion data for USD:"
   ]
  },
  {
   "cell_type": "code",
   "execution_count": 5,
   "metadata": {
    "scrolled": true
   },
   "outputs": [
    {
     "name": "stdout",
     "output_type": "stream",
     "text": [
      "b'{\"rates\":{\"CAD\":1.3954067515,\"HKD\":7.7503228187,\"ISK\":147.1130787678,\"PHP\":50.5100534957,\"DKK\":6.8779745434,\"HUF\":327.9376498801,\"CZK\":25.018446781,\"GBP\":0.8059214167,\"RON\":4.4673491976,\"SEK\":9.9002029146,\"IDR\":15321.0016602103,\"INR\":75.6516325401,\"BRL\":5.4711307877,\"RUB\":73.6220254566,\"HRK\":6.9765725881,\"JPY\":106.548607268,\"THB\":32.420217672,\"CHF\":0.9750046117,\"EUR\":0.9223390518,\"MYR\":4.3475373547,\"BGN\":1.8039107176,\"TRY\":6.988286294,\"CNY\":7.0764619074,\"NOK\":10.3973436635,\"NZD\":1.6446227633,\"ZAR\":18.4316546763,\"USD\":1.0,\"MXN\":24.1217487548,\"SGD\":1.4152370411,\"AUD\":1.5361556908,\"ILS\":3.5102379635,\"KRW\":1218.9540675152,\"PLN\":4.1912931194},\"base\":\"USD\",\"date\":\"2020-04-29\"}'\n"
     ]
    }
   ],
   "source": [
    "r = requests.get('https://api.exchangeratesapi.io/latest?base=USD')\n",
    "print(r.content)"
   ]
  },
  {
   "cell_type": "markdown",
   "metadata": {},
   "source": [
    "Does the output look familiar?<br>\n",
    "It's **JSON**.<br>\n",
    "JSON is one common way web APIs serve data."
   ]
  },
  {
   "cell_type": "markdown",
   "metadata": {},
   "source": [
    "Instead of importing the json module and loading the text string to a dicationary, use the .json() method of the response object to do this:"
   ]
  },
  {
   "cell_type": "code",
   "execution_count": 6,
   "metadata": {},
   "outputs": [
    {
     "name": "stdout",
     "output_type": "stream",
     "text": [
      "{'rates': {'CAD': 1.3954067515, 'HKD': 7.7503228187, 'ISK': 147.1130787678, 'PHP': 50.5100534957, 'DKK': 6.8779745434, 'HUF': 327.9376498801, 'CZK': 25.018446781, 'GBP': 0.8059214167, 'RON': 4.4673491976, 'SEK': 9.9002029146, 'IDR': 15321.0016602103, 'INR': 75.6516325401, 'BRL': 5.4711307877, 'RUB': 73.6220254566, 'HRK': 6.9765725881, 'JPY': 106.548607268, 'THB': 32.420217672, 'CHF': 0.9750046117, 'EUR': 0.9223390518, 'MYR': 4.3475373547, 'BGN': 1.8039107176, 'TRY': 6.988286294, 'CNY': 7.0764619074, 'NOK': 10.3973436635, 'NZD': 1.6446227633, 'ZAR': 18.4316546763, 'USD': 1.0, 'MXN': 24.1217487548, 'SGD': 1.4152370411, 'AUD': 1.5361556908, 'ILS': 3.5102379635, 'KRW': 1218.9540675152, 'PLN': 4.1912931194}, 'base': 'USD', 'date': '2020-04-29'}\n"
     ]
    }
   ],
   "source": [
    "print(r.json())"
   ]
  },
  {
   "cell_type": "markdown",
   "metadata": {},
   "source": [
    "Save the response dictionary to a variable that we can work with"
   ]
  },
  {
   "cell_type": "code",
   "execution_count": 7,
   "metadata": {},
   "outputs": [],
   "source": [
    "conv_dict = r.json()"
   ]
  },
  {
   "cell_type": "markdown",
   "metadata": {},
   "source": [
    "Use bracket notation to retrieve the concersion rate for USD to CAD"
   ]
  },
  {
   "cell_type": "code",
   "execution_count": 8,
   "metadata": {},
   "outputs": [
    {
     "data": {
      "text/plain": [
       "1.3954067515"
      ]
     },
     "execution_count": 8,
     "metadata": {},
     "output_type": "execute_result"
    }
   ],
   "source": [
    "conv_dict['rates']['CAD']"
   ]
  },
  {
   "cell_type": "markdown",
   "metadata": {},
   "source": [
    "## Final Exercise\n",
    "*Write a function that sources data from this web API to convert USD to CAD*<br><br>\n",
    "\n",
    "Requirements:\n",
    "- Accept USD as a parameter\n",
    "- Request the web resource\n",
    "- Get the conversion rate out of the response data\n",
    "- Perform the conversion calculation and round the result"
   ]
  },
  {
   "cell_type": "code",
   "execution_count": 9,
   "metadata": {},
   "outputs": [],
   "source": [
    "def usd_to_cad(usd_amt):\n",
    "    # Get the exchange rate\n",
    "    r = requests.get('https://api.exchangeratesapi.io/latest?base=USD')\n",
    "    cad_rate = r.json()['rates']['CAD']\n",
    "    cad_amt = usd_amt * cad_rate\n",
    "    return round(cad_amt, 2)\n"
   ]
  },
  {
   "cell_type": "markdown",
   "metadata": {},
   "source": [
    "Try out the function"
   ]
  },
  {
   "cell_type": "code",
   "execution_count": 10,
   "metadata": {},
   "outputs": [
    {
     "name": "stdout",
     "output_type": "stream",
     "text": [
      "139.54\n"
     ]
    }
   ],
   "source": [
    "print(usd_to_cad(100))"
   ]
  }
 ],
 "metadata": {
  "kernelspec": {
   "display_name": "Python 3",
   "language": "python",
   "name": "python3"
  },
  "language_info": {
   "codemirror_mode": {
    "name": "ipython",
    "version": 3
   },
   "file_extension": ".py",
   "mimetype": "text/x-python",
   "name": "python",
   "nbconvert_exporter": "python",
   "pygments_lexer": "ipython3",
   "version": "3.7.1"
  }
 },
 "nbformat": 4,
 "nbformat_minor": 2
}
