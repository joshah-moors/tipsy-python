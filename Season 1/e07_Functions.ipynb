{
 "cells": [
  {
   "cell_type": "markdown",
   "metadata": {},
   "source": [
    "# Tipsy Python\n",
    "*Season 1 | Episode 7*<br>\n",
    "Video: https://youtu.be/qOrQgp0IN4M\n",
    "\n",
    "## Writing Functions"
   ]
  },
  {
   "cell_type": "markdown",
   "metadata": {},
   "source": [
    "In this series we've used many functions from the python standard library.<br>\n",
    "The print function accepts a value, and performs logic (printing output to the console), only when it's called."
   ]
  },
  {
   "cell_type": "code",
   "execution_count": 1,
   "metadata": {},
   "outputs": [
    {
     "name": "stdout",
     "output_type": "stream",
     "text": [
      "hello world\n"
     ]
    }
   ],
   "source": [
    "print('hello world')"
   ]
  },
  {
   "cell_type": "markdown",
   "metadata": {},
   "source": [
    "**Write your own custom function**<br>\n",
    "The syntax is like this:"
   ]
  },
  {
   "cell_type": "code",
   "execution_count": 2,
   "metadata": {},
   "outputs": [],
   "source": [
    "def first_func():\n",
    "    pass"
   ]
  },
  {
   "cell_type": "markdown",
   "metadata": {},
   "source": [
    "**NOTE**:\n",
    "- The keyword \"def\"\n",
    "- Then the function name\n",
    "- Function name immediately followed by parentheses (no space)\n",
    "- Colon\n",
    "- 4 space indent\n",
    "- Commands for the function to perform when called in the indented code-block"
   ]
  },
  {
   "cell_type": "markdown",
   "metadata": {},
   "source": [
    "To *execute* this function, just write function name followed by parentheses (no space)"
   ]
  },
  {
   "cell_type": "code",
   "execution_count": 3,
   "metadata": {},
   "outputs": [],
   "source": [
    "first_func()"
   ]
  },
  {
   "cell_type": "markdown",
   "metadata": {},
   "source": [
    "We were just using *pass* keyword to do nothing while demonstrating syntax.<br>\n",
    "Write a function that prints \"hello\":"
   ]
  },
  {
   "cell_type": "code",
   "execution_count": 4,
   "metadata": {},
   "outputs": [],
   "source": [
    "def say_hello():\n",
    "    print('hello')"
   ]
  },
  {
   "cell_type": "markdown",
   "metadata": {},
   "source": [
    "Call the say_hello function"
   ]
  },
  {
   "cell_type": "code",
   "execution_count": 5,
   "metadata": {
    "scrolled": true
   },
   "outputs": [
    {
     "name": "stdout",
     "output_type": "stream",
     "text": [
      "hello\n"
     ]
    }
   ],
   "source": [
    "say_hello()"
   ]
  },
  {
   "cell_type": "markdown",
   "metadata": {},
   "source": [
    "Functions are modular, reusable pieces of code - they can be called multiple times.<br>\n",
    "Add a 1 second pause and call the function to see that it can be called any number of times inside a script.<br>\n",
    "(You'll have to stop the session to exit the following infinite loop)"
   ]
  },
  {
   "cell_type": "code",
   "execution_count": 6,
   "metadata": {
    "scrolled": true
   },
   "outputs": [
    {
     "name": "stdout",
     "output_type": "stream",
     "text": [
      "hello\n",
      "hello\n",
      "hello\n",
      "hello\n",
      "hello\n",
      "hello\n",
      "hello\n",
      "hello\n",
      "hello\n",
      "hello\n",
      "hello\n",
      "hello\n",
      "hello\n",
      "hello\n",
      "hello\n",
      "hello\n",
      "hello\n",
      "hello\n",
      "hello\n",
      "hello\n",
      "hello\n",
      "hello\n",
      "hello\n",
      "hello\n",
      "hello\n",
      "hello\n",
      "hello\n",
      "hello\n",
      "hello\n",
      "hello\n",
      "hello\n",
      "hello\n",
      "hello\n",
      "hello\n",
      "hello\n",
      "hello\n",
      "hello\n",
      "hello\n",
      "hello\n",
      "hello\n",
      "hello\n",
      "hello\n",
      "hello\n",
      "hello\n",
      "hello\n",
      "hello\n",
      "hello\n",
      "hello\n",
      "hello\n",
      "hello\n",
      "hello\n",
      "hello\n",
      "hello\n",
      "hello\n",
      "hello\n",
      "hello\n",
      "hello\n",
      "hello\n",
      "hello\n",
      "hello\n",
      "hello\n",
      "hello\n",
      "hello\n",
      "hello\n",
      "hello\n",
      "hello\n",
      "hello\n",
      "hello\n",
      "hello\n",
      "hello\n",
      "hello\n",
      "hello\n",
      "hello\n",
      "hello\n",
      "hello\n",
      "hello\n",
      "hello\n",
      "hello\n",
      "hello\n",
      "hello\n",
      "hello\n",
      "hello\n",
      "hello\n",
      "hello\n",
      "hello\n",
      "hello\n",
      "hello\n",
      "hello\n",
      "hello\n",
      "hello\n",
      "hello\n",
      "hello\n",
      "hello\n",
      "hello\n",
      "hello\n",
      "hello\n",
      "hello\n",
      "hello\n",
      "hello\n",
      "hello\n",
      "hello\n",
      "hello\n",
      "hello\n",
      "hello\n",
      "hello\n",
      "hello\n",
      "hello\n",
      "hello\n",
      "hello\n",
      "hello\n",
      "hello\n",
      "hello\n",
      "hello\n",
      "hello\n",
      "hello\n",
      "hello\n",
      "hello\n",
      "hello\n",
      "hello\n",
      "hello\n",
      "hello\n",
      "hello\n",
      "hello\n",
      "hello\n",
      "hello\n",
      "hello\n",
      "hello\n",
      "hello\n",
      "hello\n",
      "hello\n",
      "hello\n",
      "hello\n",
      "hello\n",
      "hello\n",
      "hello\n",
      "hello\n",
      "hello\n",
      "hello\n",
      "hello\n",
      "hello\n",
      "hello\n",
      "hello\n",
      "hello\n",
      "hello\n",
      "hello\n",
      "hello\n",
      "hello\n",
      "hello\n",
      "hello\n",
      "hello\n",
      "hello\n",
      "hello\n",
      "hello\n",
      "hello\n",
      "hello\n",
      "hello\n",
      "hello\n",
      "hello\n",
      "hello\n",
      "hello\n",
      "hello\n",
      "hello\n",
      "hello\n",
      "hello\n",
      "hello\n"
     ]
    },
    {
     "ename": "KeyboardInterrupt",
     "evalue": "",
     "output_type": "error",
     "traceback": [
      "\u001b[1;31m---------------------------------------------------------------------------\u001b[0m",
      "\u001b[1;31mKeyboardInterrupt\u001b[0m                         Traceback (most recent call last)",
      "\u001b[1;32m<ipython-input-6-e037bbdeb863>\u001b[0m in \u001b[0;36m<module>\u001b[1;34m\u001b[0m\n\u001b[0;32m      2\u001b[0m \u001b[1;33m\u001b[0m\u001b[0m\n\u001b[0;32m      3\u001b[0m \u001b[1;32mwhile\u001b[0m \u001b[1;32mTrue\u001b[0m\u001b[1;33m:\u001b[0m\u001b[1;33m\u001b[0m\u001b[1;33m\u001b[0m\u001b[0m\n\u001b[1;32m----> 4\u001b[1;33m     \u001b[0mtime\u001b[0m\u001b[1;33m.\u001b[0m\u001b[0msleep\u001b[0m\u001b[1;33m(\u001b[0m\u001b[1;36m1\u001b[0m\u001b[1;33m)\u001b[0m\u001b[1;33m\u001b[0m\u001b[1;33m\u001b[0m\u001b[0m\n\u001b[0m\u001b[0;32m      5\u001b[0m     \u001b[0msay_hello\u001b[0m\u001b[1;33m(\u001b[0m\u001b[1;33m)\u001b[0m\u001b[1;33m\u001b[0m\u001b[1;33m\u001b[0m\u001b[0m\n",
      "\u001b[1;31mKeyboardInterrupt\u001b[0m: "
     ]
    }
   ],
   "source": [
    "import time\n",
    "\n",
    "while True:\n",
    "    time.sleep(1)\n",
    "    say_hello()"
   ]
  },
  {
   "cell_type": "code",
   "execution_count": null,
   "metadata": {},
   "outputs": [],
   "source": []
  },
  {
   "cell_type": "markdown",
   "metadata": {},
   "source": [
    "To dynamically modify the behavior at run-time, add a *parameter* (also called *argument*) in the parentheses in the function defintion.The temporary variable name assigned in the parentheses will accepts a variable/object when the function is called, and can be referenced in the indented block of code.<br><br>\n",
    "Add a name parameter to the say_hello function:"
   ]
  },
  {
   "cell_type": "code",
   "execution_count": 7,
   "metadata": {},
   "outputs": [],
   "source": [
    "def say_hello(name):\n",
    "    print(f'hello {name}')"
   ]
  },
  {
   "cell_type": "markdown",
   "metadata": {},
   "source": [
    "Try it out, pass a string into the parentheses when the function is called to updated the name in the printed statement."
   ]
  },
  {
   "cell_type": "code",
   "execution_count": 9,
   "metadata": {},
   "outputs": [
    {
     "name": "stdout",
     "output_type": "stream",
     "text": [
      "hello Tipsy Python\n"
     ]
    }
   ],
   "source": [
    "say_hello('Tipsy Python')"
   ]
  },
  {
   "cell_type": "markdown",
   "metadata": {},
   "source": [
    "In the function definition, you can assign a default value for parameters to make them optional:"
   ]
  },
  {
   "cell_type": "code",
   "execution_count": 10,
   "metadata": {},
   "outputs": [
    {
     "name": "stdout",
     "output_type": "stream",
     "text": [
      "hello Tipsy Python\n",
      "hello Taco\n"
     ]
    }
   ],
   "source": [
    "def say_hello(name='Taco'):\n",
    "    print(f'hello {name}')\n",
    "\n",
    "say_hello('Tipsy Python')\n",
    "say_hello()"
   ]
  },
  {
   "cell_type": "markdown",
   "metadata": {},
   "source": [
    "A common use-case may be to loop through an iterable object, and call a function for each one."
   ]
  },
  {
   "cell_type": "code",
   "execution_count": 11,
   "metadata": {
    "scrolled": true
   },
   "outputs": [
    {
     "name": "stdout",
     "output_type": "stream",
     "text": [
      "hello Midge\n",
      "hello Pal\n",
      "hello Sonny\n",
      "hello Joshah\n"
     ]
    }
   ],
   "source": [
    "name_list = ['Midge', 'Pal', 'Sonny', 'Joshah']\n",
    "for n in name_list:\n",
    "    say_hello(n)"
   ]
  },
  {
   "cell_type": "markdown",
   "metadata": {},
   "source": [
    "If you know this is how the function will be used, you can have the function accept the collection object, and perform the iteration inside the function definition.<br>"
   ]
  },
  {
   "cell_type": "code",
   "execution_count": 12,
   "metadata": {
    "scrolled": true
   },
   "outputs": [
    {
     "name": "stdout",
     "output_type": "stream",
     "text": [
      "hello Midge\n",
      "hello Pal\n",
      "hello Sonny\n",
      "hello Joshah\n"
     ]
    }
   ],
   "source": [
    "def say_hello(name_list):\n",
    "    for name in name_list:\n",
    "        print(f'hello {name}')\n",
    "\n",
    "say_hello(name_list)"
   ]
  },
  {
   "cell_type": "markdown",
   "metadata": {},
   "source": [
    "Functions are *data type agnostic* to the objects that are passed in - they can accepts arguments of anytime, as long as they are used correctly inside the function."
   ]
  },
  {
   "cell_type": "markdown",
   "metadata": {},
   "source": [
    "This is one example of a design consideration.<br>\n",
    "Part of the coding process is understanding how the code is being used, and writing the most effective solution.<br><br><br>\n",
    "To help guide the solutions I write, I often use the **import this** command to reference *The Zen of Python* by Tim Peters:"
   ]
  },
  {
   "cell_type": "code",
   "execution_count": 1,
   "metadata": {},
   "outputs": [
    {
     "name": "stdout",
     "output_type": "stream",
     "text": [
      "The Zen of Python, by Tim Peters\n",
      "\n",
      "Beautiful is better than ugly.\n",
      "Explicit is better than implicit.\n",
      "Simple is better than complex.\n",
      "Complex is better than complicated.\n",
      "Flat is better than nested.\n",
      "Sparse is better than dense.\n",
      "Readability counts.\n",
      "Special cases aren't special enough to break the rules.\n",
      "Although practicality beats purity.\n",
      "Errors should never pass silently.\n",
      "Unless explicitly silenced.\n",
      "In the face of ambiguity, refuse the temptation to guess.\n",
      "There should be one-- and preferably only one --obvious way to do it.\n",
      "Although that way may not be obvious at first unless you're Dutch.\n",
      "Now is better than never.\n",
      "Although never is often better than *right* now.\n",
      "If the implementation is hard to explain, it's a bad idea.\n",
      "If the implementation is easy to explain, it may be a good idea.\n",
      "Namespaces are one honking great idea -- let's do more of those!\n"
     ]
    }
   ],
   "source": [
    "import this"
   ]
  },
  {
   "cell_type": "markdown",
   "metadata": {},
   "source": [
    "Functions can accept multiple inputs:"
   ]
  },
  {
   "cell_type": "code",
   "execution_count": 2,
   "metadata": {},
   "outputs": [],
   "source": [
    "def hi_yall(name1, name2, name3):\n",
    "    print(f'{name1}, {name2}, {name3} Howdy Y\\'all')"
   ]
  },
  {
   "cell_type": "markdown",
   "metadata": {},
   "source": [
    "Call the function, and pass multiple arguments:"
   ]
  },
  {
   "cell_type": "code",
   "execution_count": 15,
   "metadata": {
    "scrolled": true
   },
   "outputs": [
    {
     "name": "stdout",
     "output_type": "stream",
     "text": [
      "Jonny, Kimmy, Jimmy Howdy Y'all\n"
     ]
    }
   ],
   "source": [
    "hi_yall(\"Jonny\", \"Kimmy\", \"Jimmy\")"
   ]
  },
  {
   "cell_type": "markdown",
   "metadata": {},
   "source": [
    "## Return Values"
   ]
  },
  {
   "cell_type": "markdown",
   "metadata": {},
   "source": [
    "A critical part of functions is that they return something."
   ]
  },
  {
   "cell_type": "markdown",
   "metadata": {},
   "source": [
    "Notice the float function accepts an input, and returns a value that the price variables references:"
   ]
  },
  {
   "cell_type": "code",
   "execution_count": 17,
   "metadata": {},
   "outputs": [
    {
     "name": "stdout",
     "output_type": "stream",
     "text": [
      "18.5\n"
     ]
    }
   ],
   "source": [
    "price = float('18.5')\n",
    "print(price)"
   ]
  },
  {
   "cell_type": "markdown",
   "metadata": {},
   "source": [
    "**ALL** functions return a value, even if it's not something we use.<br>\n",
    "Notice when the output value of the print() function is captured, it is None."
   ]
  },
  {
   "cell_type": "code",
   "execution_count": 18,
   "metadata": {},
   "outputs": [
    {
     "name": "stdout",
     "output_type": "stream",
     "text": [
      "hi\n"
     ]
    }
   ],
   "source": [
    "value = print('hi')"
   ]
  },
  {
   "cell_type": "code",
   "execution_count": 19,
   "metadata": {},
   "outputs": [
    {
     "name": "stdout",
     "output_type": "stream",
     "text": [
      "None\n"
     ]
    }
   ],
   "source": [
    "print(value)"
   ]
  },
  {
   "cell_type": "markdown",
   "metadata": {},
   "source": [
    "By default, if not return value is explicitly stated, then None is returned"
   ]
  },
  {
   "cell_type": "markdown",
   "metadata": {},
   "source": [
    "Add the return keyword at the end of function logic to exit the indented code-block"
   ]
  },
  {
   "cell_type": "code",
   "execution_count": 3,
   "metadata": {},
   "outputs": [],
   "source": [
    "def calc_price():\n",
    "    return"
   ]
  },
  {
   "cell_type": "markdown",
   "metadata": {},
   "source": [
    "If no return value is specified, the function returns None by default"
   ]
  },
  {
   "cell_type": "code",
   "execution_count": 4,
   "metadata": {},
   "outputs": [
    {
     "name": "stdout",
     "output_type": "stream",
     "text": [
      "None\n"
     ]
    }
   ],
   "source": [
    "print(calc_price())"
   ]
  },
  {
   "cell_type": "markdown",
   "metadata": {},
   "source": [
    "To specify a return value, reference the value after the *return* keyword:"
   ]
  },
  {
   "cell_type": "code",
   "execution_count": 5,
   "metadata": {},
   "outputs": [],
   "source": [
    "def calc_price():\n",
    "    return 100"
   ]
  },
  {
   "cell_type": "markdown",
   "metadata": {},
   "source": [
    "Notice that the function is returning the value now"
   ]
  },
  {
   "cell_type": "code",
   "execution_count": 6,
   "metadata": {
    "scrolled": true
   },
   "outputs": [
    {
     "name": "stdout",
     "output_type": "stream",
     "text": [
      "100\n"
     ]
    }
   ],
   "source": [
    "print(calc_price())"
   ]
  },
  {
   "cell_type": "markdown",
   "metadata": {},
   "source": [
    "Write a function to perform a *sales tax calculation*<br>\n",
    "The function should:\n",
    "- Accept a price argument\n",
    "- Perform the calculation\n",
    "- Return the calculated value"
   ]
  },
  {
   "cell_type": "code",
   "execution_count": 27,
   "metadata": {},
   "outputs": [],
   "source": [
    "def calc_price(price):\n",
    "    tax_rate = 1.0825\n",
    "    total = price * tax_rate\n",
    "    return total"
   ]
  },
  {
   "cell_type": "markdown",
   "metadata": {},
   "source": [
    "Call the function, set a variable to the output value, print the output"
   ]
  },
  {
   "cell_type": "code",
   "execution_count": 31,
   "metadata": {},
   "outputs": [
    {
     "name": "stdout",
     "output_type": "stream",
     "text": [
      "10.825\n"
     ]
    }
   ],
   "source": [
    "this_price = calc_price(10)\n",
    "print(this_price)"
   ]
  },
  {
   "cell_type": "markdown",
   "metadata": {},
   "source": [
    "## Final Exercise\n",
    "*Whiskey Review App - continued...*<br><br>\n",
    "Add a feature to the whiskey review app so that the user can search reviews by whiskey name.<br><br>\n",
    "\n",
    "Requirements:\n",
    "- Write a function that accepts a user input term, and searches the whiskey data for whiskey names that contain the input text\n",
    "- Add a user prompt to Find Reviews\n",
    "- When the user selected Find Reviews, get their prompt for their search term, and call the function\n",
    "- Print results\n",
    "- If no matches were found, print a message saying so"
   ]
  },
  {
   "cell_type": "markdown",
   "metadata": {},
   "source": [
    "*The following code is contained in review_app.py*"
   ]
  },
  {
   "cell_type": "code",
   "execution_count": null,
   "metadata": {},
   "outputs": [
    {
     "name": "stdout",
     "output_type": "stream",
     "text": [
      "Write a review (W), Read Reviews (R), Find Reviews (F) or Exit (X)? w\n",
      "Enter the whiskey name: Weller Antique\n",
      "Enter the Rating (1 - 10): 9\n",
      "Enter tasting notes: HOT!!!\n",
      "\n",
      "Review Saved\n",
      "\n",
      "Write a review (W), Read Reviews (R), Find Reviews (F) or Exit (X)? f\n",
      "What review are you looking for? MAKERS\n",
      "Whiskey: Makers\n",
      "Rating: 7\n",
      "Notes: Peanuts\n",
      "---\n",
      "Write a review (W), Read Reviews (R), Find Reviews (F) or Exit (X)? f\n",
      "What review are you looking for? weller\n",
      "Whiskey: Weller Antique\n",
      "Rating: 9\n",
      "Notes: HOT!!!\n",
      "---\n",
      "Write a review (W), Read Reviews (R), Find Reviews (F) or Exit (X)? f\n",
      "What review are you looking for? Jim Beam\n",
      "No Matches Found\n"
     ]
    }
   ],
   "source": [
    "#!/usr/bin/env python3\n",
    "\n",
    "import json\n",
    "\n",
    "running = True\n",
    "data_file = 'C:\\\\Users\\\\Tipsy\\\\Desktop\\\\data.dat'\n",
    "with open(data_file, 'r') as f:\n",
    "    review_dict = json.loads(f.read())\n",
    "\n",
    "\n",
    "def find_review(review_input):\n",
    "    output = []\n",
    "    for k, v in review_dict.items():\n",
    "        if review_input.upper() in k.upper():\n",
    "            output.append(f\"Whiskey: {k}\\nRating: {v['rating']}\\nNotes: {v['notes']}\\n---\")\n",
    "    # Check for matches\n",
    "    if len(output) == 0:\n",
    "        output.append('No Matches Found')\n",
    "    return output\n",
    "\n",
    "while running:\n",
    "    user_option = input('Write a review (W), Read Reviews (R), Find Reviews (F) or Exit (X)? ')\n",
    "    if user_option.upper() == 'W':\n",
    "        whiskey = input('Enter the whiskey name: ')\n",
    "        rating = input('Enter the Rating (1 - 10): ')\n",
    "        notes = input('Enter tasting notes: ')\n",
    "        this_item = {\n",
    "           \"rating\": rating,\n",
    "           \"notes\": notes\n",
    "        }\n",
    "        review_dict[whiskey] = this_item\n",
    "        with open(data_file, 'w') as f:\n",
    "            f.write(json.dumps(review_dict))\n",
    "        print('\\nReview Saved\\n')\n",
    "    elif user_option.upper() == 'R':\n",
    "        for k, v in review_dict.items():\n",
    "            print(f\"Whiskey: {k}\\nRating: {v['rating']}\\nNotes: {v['notes']}\\n---\")\n",
    "        print('\\n')\n",
    "    elif user_option.upper() == 'F':\n",
    "        review_input = input('What review are you looking for? ')\n",
    "        results = find_review(review_input)\n",
    "        for r in results:\n",
    "            print(r)\n",
    "    elif user_option.upper() == 'X':\n",
    "        running = False\n",
    "    else:\n",
    "        print('Cannot process the input')"
   ]
  }
 ],
 "metadata": {
  "kernelspec": {
   "display_name": "Python 3",
   "language": "python",
   "name": "python3"
  },
  "language_info": {
   "codemirror_mode": {
    "name": "ipython",
    "version": 3
   },
   "file_extension": ".py",
   "mimetype": "text/x-python",
   "name": "python",
   "nbconvert_exporter": "python",
   "pygments_lexer": "ipython3",
   "version": "3.7.1"
  }
 },
 "nbformat": 4,
 "nbformat_minor": 2
}
