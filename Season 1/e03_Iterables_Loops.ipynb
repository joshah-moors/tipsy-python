{
 "cells": [
  {
   "cell_type": "markdown",
   "metadata": {},
   "source": [
    "# Tipsy Python\n",
    "*Season 1 | Episode 3*<br>\n",
    "Video: https://youtu.be/4sWcGyPrqFw\n",
    "\n",
    "## Iterables & Loops"
   ]
  },
  {
   "cell_type": "markdown",
   "metadata": {},
   "source": [
    "Some objects in Python have a property which makes them iterable.<br>\n",
    "..meaning you are able to iterate over the values in an object one at a time."
   ]
  },
  {
   "cell_type": "code",
   "execution_count": 1,
   "metadata": {},
   "outputs": [],
   "source": [
    "prices = [5, 10, 15, 20, 25]"
   ]
  },
  {
   "cell_type": "markdown",
   "metadata": {},
   "source": [
    "Next is an example of the syntax for a for-loop<br>\n",
    "Note:\n",
    "- keyword \"for\"\n",
    "- temporary variable name (for reference inside the indented code, \"price\" here)\n",
    "- keywork \"in\"\n",
    "- object name \"prices\"\n",
    "- colon\n",
    "- newline with a 4 space indent\n",
    "- code to perform for each iteration in the indented code block"
   ]
  },
  {
   "cell_type": "markdown",
   "metadata": {},
   "source": [
    "The *pass* keyword is tells python to continue running - no action is taken:"
   ]
  },
  {
   "cell_type": "code",
   "execution_count": 2,
   "metadata": {},
   "outputs": [],
   "source": [
    "for price in prices:\n",
    "    pass"
   ]
  },
  {
   "cell_type": "markdown",
   "metadata": {},
   "source": [
    "To perform an action on each item in the iterable object, write the logic in the indent block.<br>\n",
    "Print each item:"
   ]
  },
  {
   "cell_type": "code",
   "execution_count": 3,
   "metadata": {
    "scrolled": true
   },
   "outputs": [
    {
     "name": "stdout",
     "output_type": "stream",
     "text": [
      "5\n",
      "10\n",
      "15\n",
      "20\n",
      "25\n"
     ]
    }
   ],
   "source": [
    "for price in prices:\n",
    "    print(price)"
   ]
  },
  {
   "cell_type": "markdown",
   "metadata": {},
   "source": [
    "It's common to have to keep track of index in the object you are iterating through.<br>\n",
    "One way to do it is to create a counter variable and increment it on every iteration"
   ]
  },
  {
   "cell_type": "code",
   "execution_count": 4,
   "metadata": {},
   "outputs": [
    {
     "name": "stdout",
     "output_type": "stream",
     "text": [
      "5\n",
      "0\n",
      "10\n",
      "1\n",
      "15\n",
      "2\n",
      "20\n",
      "3\n",
      "25\n",
      "4\n"
     ]
    }
   ],
   "source": [
    "count = 0\n",
    "for p in prices:\n",
    "    print(p)\n",
    "    print(count)\n",
    "    count += 1"
   ]
  },
  {
   "cell_type": "markdown",
   "metadata": {},
   "source": [
    "This is done so much that there is a standard-library function that performs this logic for you"
   ]
  },
  {
   "cell_type": "markdown",
   "metadata": {},
   "source": [
    "## enumerate()\n",
    "Returns a tuple of the current index and the item.<br>\n",
    "In this loop I'm setting two variables to unpack the two-item tuple that's returned:"
   ]
  },
  {
   "cell_type": "code",
   "execution_count": 5,
   "metadata": {
    "scrolled": false
   },
   "outputs": [
    {
     "name": "stdout",
     "output_type": "stream",
     "text": [
      "5\n",
      "0\n",
      "10\n",
      "1\n",
      "15\n",
      "2\n",
      "20\n",
      "3\n",
      "25\n",
      "4\n"
     ]
    }
   ],
   "source": [
    "for idx, p in enumerate(prices):\n",
    "    print(p)\n",
    "    print(idx)"
   ]
  },
  {
   "cell_type": "markdown",
   "metadata": {},
   "source": [
    "**WARNING**: Avoid changing an item while you are iterating through it - you may get unexpected results"
   ]
  },
  {
   "cell_type": "markdown",
   "metadata": {},
   "source": [
    "The intent of the following loop is to iterate through an item and use .pop() to remove each item in the prices list."
   ]
  },
  {
   "cell_type": "code",
   "execution_count": 6,
   "metadata": {
    "scrolled": true
   },
   "outputs": [
    {
     "name": "stdout",
     "output_type": "stream",
     "text": [
      "25\n",
      "20\n",
      "15\n",
      "[5, 10]\n"
     ]
    }
   ],
   "source": [
    "for x in prices:\n",
    "    print(prices.pop())\n",
    "print(prices)"
   ]
  },
  {
   "cell_type": "markdown",
   "metadata": {},
   "source": [
    "As you can see, items still remain because this loop was updating the list and changing the index of the contents while it was running.<br>\n",
    "What's a better way to do this?"
   ]
  },
  {
   "cell_type": "markdown",
   "metadata": {},
   "source": [
    "## range()\n",
    "The range function returns a collection of integers starting at zero and ending when the argument number is reached."
   ]
  },
  {
   "cell_type": "markdown",
   "metadata": {},
   "source": [
    "Assemble a list of numbers using the range function:"
   ]
  },
  {
   "cell_type": "code",
   "execution_count": 7,
   "metadata": {},
   "outputs": [],
   "source": [
    "new_list = []\n",
    "for i in range(10):\n",
    "    new_list.append(i)"
   ]
  },
  {
   "cell_type": "code",
   "execution_count": 8,
   "metadata": {},
   "outputs": [
    {
     "name": "stdout",
     "output_type": "stream",
     "text": [
      "[0, 1, 2, 3, 4, 5, 6, 7, 8, 9]\n"
     ]
    }
   ],
   "source": [
    "print(new_list)"
   ]
  },
  {
   "cell_type": "code",
   "execution_count": 9,
   "metadata": {
    "scrolled": true
   },
   "outputs": [
    {
     "data": {
      "text/plain": [
       "10"
      ]
     },
     "execution_count": 9,
     "metadata": {},
     "output_type": "execute_result"
    }
   ],
   "source": [
    "len(new_list)"
   ]
  },
  {
   "cell_type": "markdown",
   "metadata": {},
   "source": [
    "One alternative to the .pop() loop above may be to:\n",
    "- use the len() function to identify how many elements are in an iterable object\n",
    "- use range to assemble a collection of numbers to iterate through that is the same length<br><br>\n",
    "This works because the expression in the for-statement is evaluated once; at the beginning of the loop."
   ]
  },
  {
   "cell_type": "code",
   "execution_count": 10,
   "metadata": {},
   "outputs": [
    {
     "name": "stdout",
     "output_type": "stream",
     "text": [
      "[]\n"
     ]
    }
   ],
   "source": [
    "for _ in range(len(new_list)):\n",
    "    new_list.pop()\n",
    "    \n",
    "print(new_list)"
   ]
  },
  {
   "cell_type": "markdown",
   "metadata": {},
   "source": [
    "**NOTE**: In the example above, the iterable object *new_list* was exhausted.<br>\n",
    "And, we used an underscore for the temporary variable name to show we were not interested in holding that value."
   ]
  },
  {
   "cell_type": "markdown",
   "metadata": {},
   "source": [
    "While we typically iteration through collection items, there are other types of objects that are also iterables.<br>\n",
    "What happens when you try to iterate through a string?"
   ]
  },
  {
   "cell_type": "code",
   "execution_count": 11,
   "metadata": {},
   "outputs": [],
   "source": [
    "my_str = 'Sip & Subscribe'"
   ]
  },
  {
   "cell_type": "code",
   "execution_count": 12,
   "metadata": {
    "scrolled": true
   },
   "outputs": [
    {
     "name": "stdout",
     "output_type": "stream",
     "text": [
      "S\n",
      "i\n",
      "p\n",
      " \n",
      "&\n",
      " \n",
      "S\n",
      "u\n",
      "b\n",
      "s\n",
      "c\n",
      "r\n",
      "i\n",
      "b\n",
      "e\n"
     ]
    }
   ],
   "source": [
    "for i in my_str:\n",
    "    print(i)"
   ]
  },
  {
   "cell_type": "markdown",
   "metadata": {},
   "source": [
    "Iterating through a string looks at one letter at a time."
   ]
  },
  {
   "cell_type": "markdown",
   "metadata": {},
   "source": [
    "Use the .split() method on a string to split the string by spaces (default behavior), and add the non-space sub-strings to a list"
   ]
  },
  {
   "cell_type": "code",
   "execution_count": 13,
   "metadata": {},
   "outputs": [],
   "source": [
    "words = my_str.split()"
   ]
  },
  {
   "cell_type": "markdown",
   "metadata": {},
   "source": [
    "Iterating through letters usually isn't helpful - iterating through words can be handy~"
   ]
  },
  {
   "cell_type": "code",
   "execution_count": 14,
   "metadata": {},
   "outputs": [
    {
     "name": "stdout",
     "output_type": "stream",
     "text": [
      "Sip\n",
      "&\n",
      "Subscribe\n"
     ]
    }
   ],
   "source": [
    "for word in words:\n",
    "    print(word)"
   ]
  },
  {
   "cell_type": "markdown",
   "metadata": {},
   "source": [
    "## Final Exercise\n",
    "*Sales Tax Price Calculator* Continued...<br><br>\n",
    "Continuing the sales tax calculator app, code logic that allows the user to enter and calculate multiple prices simultaneously but entering space-separated prices.\n",
    "\n",
    "Requirements:\n",
    "- Accept and calculate multiple space-separated values\n",
    "- Also display a cumulative total price\n"
   ]
  },
  {
   "cell_type": "markdown",
   "metadata": {},
   "source": [
    "## sum()\n",
    "To display the total price, use the sum() function from the standard-library. Sum accepts a collection object and returns the sum of all the values in the collection."
   ]
  },
  {
   "cell_type": "markdown",
   "metadata": {},
   "source": [
    "*The following code is contained in calculator.py*"
   ]
  },
  {
   "cell_type": "code",
   "execution_count": null,
   "metadata": {},
   "outputs": [
    {
     "name": "stdout",
     "output_type": "stream",
     "text": [
      "What is the item prices? 20 30 40\n",
      "This price: 21.65\n",
      "This price: 32.48\n",
      "This price: 43.3\n",
      "The total price is 97.43\n"
     ]
    }
   ],
   "source": [
    "#!/usr/bin/env python3\n",
    "\n",
    "price_list = []\n",
    "\n",
    "while True:\n",
    "    input_price = input(\"What is the item prices? \")\n",
    "    prices = input_price.split(' ')\n",
    "    tax_rate = 1.0825\n",
    "    for price in prices:\n",
    "        price = float(price)\n",
    "        item_price = round(price * tax_rate, 2)\n",
    "        price_list.append(item_price)\n",
    "        print(f'This price: {item_price}')\n",
    "    print(f'The total price is {round(sum(price_list), 2)}')\n"
   ]
  }
 ],
 "metadata": {
  "kernelspec": {
   "display_name": "Python 3",
   "language": "python",
   "name": "python3"
  },
  "language_info": {
   "codemirror_mode": {
    "name": "ipython",
    "version": 3
   },
   "file_extension": ".py",
   "mimetype": "text/x-python",
   "name": "python",
   "nbconvert_exporter": "python",
   "pygments_lexer": "ipython3",
   "version": "3.7.1"
  }
 },
 "nbformat": 4,
 "nbformat_minor": 2
}
